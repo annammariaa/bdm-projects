{
  "cells": [
    {
      "cell_type": "markdown",
      "metadata": {
        "id": "E1w9AYcq5R1L"
      },
      "source": [
        "# Big Data Management Project 1:\n",
        "## Analyzing New York City Taxi Data"
      ]
    },
    {
      "cell_type": "code",
      "execution_count": 1,
      "metadata": {
        "colab": {
          "base_uri": "https://localhost:8080/"
        },
        "id": "OpzgMHds5R1M",
        "outputId": "40f8ffb0-a95d-4a3e-9997-5b069e514b63"
      },
      "outputs": [
        {
          "output_type": "stream",
          "name": "stdout",
          "text": [
            "Requirement already satisfied: shapely in /usr/local/lib/python3.11/dist-packages (2.0.7)\n",
            "Requirement already satisfied: numpy<3,>=1.14 in /usr/local/lib/python3.11/dist-packages (from shapely) (1.26.4)\n"
          ]
        }
      ],
      "source": [
        "!pip install shapely"
      ]
    },
    {
      "cell_type": "code",
      "execution_count": 2,
      "metadata": {
        "id": "AIlRInxc5R1N"
      },
      "outputs": [],
      "source": [
        "from pyspark.sql import SparkSession\n",
        "from pyspark.sql.functions import udf, unix_timestamp, col, lag, avg, lead, count, sum as spark_sum\n",
        "from pyspark.sql.types import StructType, StructField, StringType, IntegerType, TimestampType, DoubleType\n",
        "from pyspark.sql.window import Window\n",
        "\n",
        "import json\n",
        "import time\n",
        "\n",
        "from shapely.geometry import shape, Point"
      ]
    },
    {
      "cell_type": "code",
      "execution_count": 3,
      "metadata": {
        "id": "gLNNqDSZ5R1O"
      },
      "outputs": [],
      "source": [
        "spark = (SparkSession.builder\n",
        "                    .appName('BDM_Project1')\n",
        "                    .enableHiveSupport()\n",
        "                    .getOrCreate()\n",
        "        )"
      ]
    },
    {
      "cell_type": "markdown",
      "metadata": {
        "id": "O_NyMxyS5R1O"
      },
      "source": [
        "### NYC Borough Data"
      ]
    },
    {
      "cell_type": "code",
      "execution_count": 4,
      "metadata": {
        "id": "UHCWtjcE5R1O"
      },
      "outputs": [],
      "source": [
        "with open('input/nyc-boroughs.geojson') as f:\n",
        "    geo_data = json.load(f)\n",
        "\n",
        "# Broadcasting data to workers\n",
        "broadcast_geo_data = spark.sparkContext.broadcast(geo_data)\n",
        "\n",
        "# Creating a dictionary of borough codes and polygons within the borough\n",
        "polygons = {}\n",
        "b_names = {} # borough names by code\n",
        "\n",
        "for feature in broadcast_geo_data.value['features']:\n",
        "\n",
        "    code = feature['properties']['boroughCode']\n",
        "    name = feature['properties']['borough']\n",
        "\n",
        "    if code not in polygons:\n",
        "        polygons[code] = []\n",
        "        b_names[code] = name\n",
        "\n",
        "    polygons[code].append(shape(feature['geometry']))\n",
        "\n",
        "# Sorting borough polygons by area\n",
        "for code in polygons:\n",
        "    polygons[code] = sorted(\n",
        "        polygons[code], key=lambda x: x.area, reverse=True\n",
        "    )"
      ]
    },
    {
      "cell_type": "code",
      "execution_count": 5,
      "metadata": {
        "id": "Ez7SlBkl5R1O"
      },
      "outputs": [],
      "source": [
        "# UDF: longitude, latitude -> borough\n",
        "def get_borough(long, lat):\n",
        "    point = Point(long, lat)\n",
        "\n",
        "    for code, pols in polygons.items():\n",
        "        for polygon in pols:\n",
        "            if polygon.contains(point):\n",
        "                return code\n",
        "\n",
        "    return None\n",
        "\n",
        "get_borough_udf = udf(get_borough, IntegerType())"
      ]
    },
    {
      "cell_type": "markdown",
      "metadata": {
        "id": "bJSJuQQ65R1O"
      },
      "source": [
        "### NYC Taxi Data"
      ]
    },
    {
      "cell_type": "code",
      "execution_count": 57,
      "metadata": {
        "colab": {
          "base_uri": "https://localhost:8080/"
        },
        "id": "OYAFRgWI5R1O",
        "outputId": "7304208c-4aef-4ace-c792-b97945e70d5d"
      },
      "outputs": [
        {
          "output_type": "stream",
          "name": "stdout",
          "text": [
            "+--------------------------------+---------------+----------------+----------+----------------+-----------------+----------+--------+--------------+---------------+\n",
            "|hack_license                    |pickup_latitude|pickup_longitude|pickup_ts |dropoff_latitude|dropoff_longitude|dropoff_ts|duration|pickup_borough|dropoff_borough|\n",
            "+--------------------------------+---------------+----------------+----------+----------------+-----------------+----------+--------+--------------+---------------+\n",
            "|BA96DE419E711691B9445D6A6307C170|40.757977      |-73.978165      |1357053108|40.751171       |-73.989838       |1357053490|382     |1             |1              |\n",
            "|9FD8F69F0804BDB5549F40E9DA1BE472|40.731781      |-74.006683      |1357431515|40.75066        |-73.994499       |1357431774|259     |1             |1              |\n",
            "|9FD8F69F0804BDB5549F40E9DA1BE472|40.73777       |-74.004707      |1357411781|40.726002       |-74.009834       |1357412063|282     |1             |1              |\n",
            "|51EE87E3205C985EF8431D850C786310|40.759945      |-73.974602      |1357602855|40.759388       |-73.984734       |1357603100|245     |1             |1              |\n",
            "|51EE87E3205C985EF8431D850C786310|40.748528      |-73.97625       |1357601103|40.747868       |-74.002586       |1357601664|561     |1             |1              |\n",
            "+--------------------------------+---------------+----------------+----------+----------------+-----------------+----------+--------+--------------+---------------+\n",
            "only showing top 5 rows\n",
            "\n",
            "Execution time 0.8910183906555176\n"
          ]
        }
      ],
      "source": [
        "start_time = time.time() # To see the time it takes to execute data transformations\n",
        "\n",
        "# Defining the schema for faster reading of data\n",
        "schema = StructType([\n",
        "    StructField(\"medallion\", StringType(), True),\n",
        "    StructField(\"hack_license\", StringType(), True),\n",
        "    StructField(\"vendor_id\", StringType(), True),\n",
        "    StructField(\"rate_code\", StringType(), True),\n",
        "    StructField(\"store_and_fwd_flag\", StringType(), True),\n",
        "    StructField(\"pickup_datetime\", TimestampType(), True),\n",
        "    StructField(\"dropoff_datetime\", TimestampType(), True),\n",
        "    StructField(\"passenger_count\", StringType(), True),\n",
        "    StructField(\"trip_time_in_secs\", StringType(), True),\n",
        "    StructField(\"trip_distance\", StringType(), True),\n",
        "    StructField(\"pickup_longitude\", DoubleType(), True),\n",
        "    StructField(\"pickup_latitude\", DoubleType(), True),\n",
        "    StructField(\"dropoff_longitude\", DoubleType(), True),\n",
        "    StructField(\"dropoff_latitude\", DoubleType(), True)\n",
        "])\n",
        "\n",
        "# Creating a single dataframe of all the trip_data files\n",
        "taxi_df_og = (spark.read\n",
        "             .option(\"sep\", \",\")\n",
        "             .option(\"header\", True)\n",
        "             .schema(schema)\n",
        "             .csv(\"input/trip_data/trip_data_*.csv\")\n",
        "             #.csv([\"input/trip_data/trip_data_1.csv\"])\n",
        "          )\n",
        "\n",
        "# Removing the trips with 0 passengers\n",
        "# Transforming the data (further explained in the project report)\n",
        "taxi_df = taxi_df_og.filter(\n",
        "    (taxi_df_og.passenger_count != \"0\") &\n",
        "    ~(\n",
        "        (taxi_df_og.trip_distance == 0) &\n",
        "        (taxi_df_og.pickup_longitude == taxi_df_og.dropoff_longitude) &\n",
        "        (taxi_df_og.pickup_latitude == taxi_df_og.dropoff_latitude)\n",
        "    )\n",
        ").withColumns({\n",
        "    \"pickup_ts\": unix_timestamp(\"pickup_datetime\", \"dd-MM-yy HH:mm\"),\n",
        "    \"dropoff_ts\": unix_timestamp(\"dropoff_datetime\", \"dd-MM-yy HH:mm\")\n",
        "}).withColumn(\n",
        "    \"duration\", col(\"dropoff_ts\") - col(\"pickup_ts\")\n",
        ").filter(\n",
        "    (col(\"duration\") > 0) & (col(\"duration\") <= 4 * 60 * 60)\n",
        ").select(\n",
        "    \"hack_license\",\n",
        "    \"pickup_latitude\",\n",
        "    \"pickup_longitude\",\n",
        "    \"pickup_ts\",\n",
        "    \"dropoff_latitude\",\n",
        "    \"dropoff_longitude\",\n",
        "    \"dropoff_ts\",\n",
        "    \"duration\"\n",
        ").dropna()\n",
        "\n",
        "# Adding pick up and drop off boroughs to taxi data\n",
        "taxi_df = taxi_df.withColumn(\n",
        "    \"pickup_borough\", get_borough_udf(\"pickup_longitude\", \"pickup_latitude\")\n",
        ").withColumn(\n",
        "    \"dropoff_borough\", get_borough_udf(\"dropoff_longitude\", \"dropoff_latitude\")\n",
        ")\n",
        "taxi_df.show(5, truncate=False)\n",
        "\n",
        "print(\"Execution time\", time.time() - start_time)"
      ]
    },
    {
      "cell_type": "markdown",
      "metadata": {
        "id": "vIv-IUsW5R1O"
      },
      "source": [
        "### Query 1\n",
        "Utilization: idle time per taxi"
      ]
    },
    {
      "cell_type": "code",
      "execution_count": 59,
      "metadata": {
        "colab": {
          "base_uri": "https://localhost:8080/"
        },
        "id": "U31yCwN_5R1P",
        "outputId": "cb891c52-00a6-4c1f-df52-c357ad519c79"
      },
      "outputs": [
        {
          "output_type": "stream",
          "name": "stdout",
          "text": [
            "+--------------------+---------------+-------------------+----------+--------------------+\n",
            "|        hack_license|total_idle_time|total_ride_duration|total_time|    utilization_rate|\n",
            "+--------------------+---------------+-------------------+----------+--------------------+\n",
            "|13CD9D132F9DFE9BD...|            300|                300|       600|                 0.5|\n",
            "|428AE5AF18511D16B...|           2520|                540|      3060| 0.17647058823529413|\n",
            "|42D2B75CA34A867A4...|           7740|                840|      8580|  0.0979020979020979|\n",
            "|49EE1E8ECFA1C6D35...|           8040|                240|      8280|0.028985507246376812|\n",
            "|4CEC9B9F46ABAB3AD...|           3480|                420|      3900|  0.1076923076923077|\n",
            "|669FA40A7222D4DC2...|           3780|                660|      4440| 0.14864864864864866|\n",
            "|69996930170E51265...|           5160|                480|      5640|  0.0851063829787234|\n",
            "|7DA853581E8C09723...|          12240|               1200|     13440| 0.08928571428571429|\n",
            "|83279FE1F7D548407...|           6120|                840|      6960|  0.1206896551724138|\n",
            "|8821CA9250E34A869...|           2220|                840|      3060| 0.27450980392156865|\n",
            "|980A15AE7BF88E611...|          24360|               2700|     27060| 0.09977827050997783|\n",
            "|A169B687A86BDE3FE...|           2820|                300|      3120| 0.09615384615384616|\n",
            "|A7EE9AEDB7325F55F...|           3660|                840|      4500| 0.18666666666666668|\n",
            "|C4BCB67BB39AD8C17...|            900|                660|      1560|  0.4230769230769231|\n",
            "|D4F2AE0988ECB2E42...|           4560|                240|      4800|                0.05|\n",
            "|E7E6F9F97F18C35E0...|          13440|                960|     14400| 0.06666666666666667|\n",
            "|F41C758E0A9022F59...|           2520|                840|      3360|                0.25|\n",
            "|FA36E516BD1822D19...|           5940|                960|      6900|  0.1391304347826087|\n",
            "|015D33FBAB8A7C5CE...|          10680|               2460|     13140|  0.1872146118721461|\n",
            "|0B6E99C5380BF98FA...|            540|                960|      1500|                0.64|\n",
            "+--------------------+---------------+-------------------+----------+--------------------+\n",
            "only showing top 20 rows\n",
            "\n"
          ]
        },
        {
          "output_type": "execute_result",
          "data": {
            "text/plain": [
              "DataFrame[hack_license: string, pickup_latitude: double, pickup_longitude: double, pickup_ts: bigint, dropoff_latitude: double, dropoff_longitude: double, dropoff_ts: bigint, duration: bigint, pickup_borough: int, dropoff_borough: int, prev_dropoff_ts: bigint, idle_time: bigint]"
            ]
          },
          "metadata": {},
          "execution_count": 59
        }
      ],
      "source": [
        "# Copy taxi_df dataframe\n",
        "taxi_copy = taxi_df.select(\"*\")\n",
        "\n",
        "# Ensure all trips of the same driver are together\n",
        "taxi_copy = taxi_copy.repartition(\"hack_license\")\n",
        "\n",
        "# Partition by driver and then order by pickup time with Window\n",
        "window_sp = Window.partitionBy(\"hack_license\").orderBy(\"pickup_ts\")\n",
        "\n",
        "# Compute previous dropoff time\n",
        "taxi_copy = taxi_copy.withColumn(\"prev_dropoff_ts\", lag(\"dropoff_ts\").over(window_sp))\n",
        "\n",
        "# Compute idle time\n",
        "taxi_copy = taxi_copy.withColumn(\"idle_time\", (col(\"pickup_ts\") - col(\"prev_dropoff_ts\")))\n",
        "\n",
        "taxi_copy.persist()\n",
        "\n",
        "# Control that idle time is not over 4h and filter out rows where pickup_ts < prev_dropoff_ts (overlapping trips)\n",
        "taxi_copy = taxi_copy.filter(\n",
        "    (col(\"idle_time\").isNotNull()) &\n",
        "    (col(\"idle_time\") > 0) &\n",
        "    (col(\"idle_time\") <= 4 * 60 * 60)\n",
        ")\n",
        "\n",
        "# Group by driver and calculate total idle time and total ride duration\n",
        "taxi_stats = taxi_copy.groupBy(\"hack_license\").agg(\n",
        "    spark_sum(\"idle_time\").alias(\"total_idle_time\"),\n",
        "    spark_sum(\"duration\").alias(\"total_ride_duration\")\n",
        ")\n",
        "\n",
        "# Calculate total time (idle + ride duration)\n",
        "taxi_stats = taxi_stats.withColumn(\"total_time\",\n",
        "                                   col(\"total_idle_time\") + col(\"total_ride_duration\"))\n",
        "\n",
        "# Calculate utilization rate\n",
        "utilization_df = taxi_stats.withColumn(\n",
        "    \"utilization_rate\",\n",
        "    col(\"total_ride_duration\") / col(\"total_time\")\n",
        ")\n",
        "\n",
        "utilization_df.show()\n",
        "\n",
        "taxi_copy.unpersist()"
      ]
    },
    {
      "cell_type": "markdown",
      "metadata": {
        "id": "KAG1UbBE5R1P"
      },
      "source": [
        "### Query 2\n",
        "The average time it takes for a taxi to find its next fare(trip) per destination borough"
      ]
    },
    {
      "cell_type": "code",
      "source": [
        "window_spec = Window.partitionBy(\"hack_license\").orderBy(\"pickup_ts\")\n",
        "\n",
        "# Get the next pickup time\n",
        "next_pick_up = taxi_copy.withColumn(\"next_pickup_ts\", lead(\"pickup_ts\").over(window_spec))\n",
        "\n",
        "# Calculate waiting time\n",
        "wait_time = next_pick_up.withColumn(\"waiting_time\", (next_pick_up[\"next_pickup_ts\"] - next_pick_up[\"dropoff_ts\"])/60)\n",
        "\n",
        "# Filter out null values, null boroughs, and waiting times > 4 hours\n",
        "wait_time = wait_time.na.drop(subset=[\"next_pickup_ts\"])\n",
        "wait_time = wait_time.filter(wait_time[\"dropoff_borough\"].isNotNull())\n",
        "wait_time = wait_time.filter(col(\"waiting_time\") <= 14400)\n",
        "\n",
        "# Calculate average waiting time by dropoff borough\n",
        "result = wait_time.groupBy(\"dropoff_borough\").agg(avg(\"waiting_time\").alias(\"avg_waiting_time\"))\n",
        "\n",
        "# Create df from borough names\n",
        "borough_names_df = spark.createDataFrame([(code, name) for code, name in b_names.items()],\n",
        "                                         [\"dropoff_borough\", \"borough_name\"])\n",
        "query2_result = result.join(borough_names_df, on=\"dropoff_borough\", how=\"left\")\n",
        "query2_result = query2_result.select(\"borough_name\", \"avg_waiting_time\").orderBy(\"avg_waiting_time\")\n",
        "\n",
        "query2_result.show()"
      ],
      "metadata": {
        "colab": {
          "base_uri": "https://localhost:8080/"
        },
        "id": "K7jwl2aoiZKk",
        "outputId": "b2c6b720-a0aa-48eb-a3ef-eb25c9a2baaa"
      },
      "execution_count": 63,
      "outputs": [
        {
          "output_type": "stream",
          "name": "stdout",
          "text": [
            "+-------------+-----------------+\n",
            "| borough_name| avg_waiting_time|\n",
            "+-------------+-----------------+\n",
            "|    Manhattan|49.65501285347044|\n",
            "|        Bronx|           54.875|\n",
            "|       Queens|61.06075268817204|\n",
            "|     Brooklyn|76.52597402597402|\n",
            "|Staten Island|            147.0|\n",
            "+-------------+-----------------+\n",
            "\n"
          ]
        }
      ]
    },
    {
      "cell_type": "code",
      "execution_count": 64,
      "metadata": {
        "colab": {
          "base_uri": "https://localhost:8080/"
        },
        "id": "VQ2ZenRZ5R1P",
        "outputId": "4e5b0f6a-280e-4841-d51a-77282d432892"
      },
      "outputs": [
        {
          "output_type": "stream",
          "name": "stdout",
          "text": [
            "In minutes\n",
            "+---------------+------------------+\n",
            "|dropoff_borough|  avg_waiting_time|\n",
            "+---------------+------------------+\n",
            "|              1| 78.00254617177697|\n",
            "|              3| 80.78446215139441|\n",
            "|              5|             147.0|\n",
            "|              4|162.89029075804777|\n",
            "|              2| 76.79411764705883|\n",
            "+---------------+------------------+\n",
            "\n"
          ]
        }
      ],
      "source": [
        "window_spec = Window.partitionBy(\"hack_license\").orderBy(\"pickup_ts\")\n",
        "\n",
        "# Get the next pickup time\n",
        "next_pick_up = taxi_df.withColumn(\"next_pickup_ts\", lead(\"pickup_ts\").over(window_spec))\n",
        "\n",
        "# Calculate waiting time\n",
        "wait_time = next_pick_up.withColumn(\"waiting_time\", ((next_pick_up[\"next_pickup_ts\"] - next_pick_up[\"dropoff_ts\"]))/60)\n",
        "\n",
        "# Filter out null values, null boroughs, and waiting times > 4 hours\n",
        "wait_time = wait_time.na.drop(subset=[\"next_pickup_ts\"])\n",
        "wait_time = wait_time.filter(wait_time[\"dropoff_borough\"].isNotNull())\n",
        "wait_time = wait_time.filter(col(\"waiting_time\") <= 4 * 60 * 60)\n",
        "\n",
        "result = wait_time.groupBy(\"dropoff_borough\").agg(avg(\"waiting_time\").alias(\"avg_waiting_time\"))\n",
        "print(\"In minutes\")\n",
        "result.show()"
      ]
    },
    {
      "cell_type": "markdown",
      "metadata": {
        "id": "ems5L6xW5R1P"
      },
      "source": [
        "### Query 3\n",
        "The number of trips that started and ended within the same borough"
      ]
    },
    {
      "cell_type": "code",
      "execution_count": 65,
      "metadata": {
        "colab": {
          "base_uri": "https://localhost:8080/"
        },
        "id": "5G0z3FoY5R1P",
        "outputId": "660fc55f-71e3-4a27-de81-e3c0db45c030"
      },
      "outputs": [
        {
          "output_type": "stream",
          "name": "stdout",
          "text": [
            "+------------+----------+\n",
            "|borough_name|trip_count|\n",
            "+------------+----------+\n",
            "|   Manhattan|      7469|\n",
            "|    Brooklyn|       200|\n",
            "|      Queens|       194|\n",
            "|       Bronx|         6|\n",
            "+------------+----------+\n",
            "\n"
          ]
        }
      ],
      "source": [
        "# Filter df to only include trips that start and end in same borough, group by pickup boroughs\n",
        "same_borough_trips_df = taxi_df.filter(col(\"pickup_borough\") == col(\"dropoff_borough\")).groupBy(\"pickup_borough\").agg(count(\"*\").alias(\"trip_count\"))\n",
        "\n",
        "# Put borough names and codes in new df to be used in next step\n",
        "borough_names_df = spark.createDataFrame([(code, name) for code, name in b_names.items()],\n",
        "                                        [\"borough_code\", \"borough_name\"])\n",
        "\n",
        "# Replace borough codes w borough names\n",
        "same_borough_trips_named = same_borough_trips_df.join(\n",
        "    borough_names_df,\n",
        "    same_borough_trips_df.pickup_borough == borough_names_df.borough_code,\n",
        "    \"left\"\n",
        ")\n",
        "\n",
        "# Show results\n",
        "same_borough_trips_named = same_borough_trips_named.select(\"borough_name\", \"trip_count\")\n",
        "same_borough_trips_named.show()"
      ]
    },
    {
      "cell_type": "markdown",
      "metadata": {
        "id": "v0_xMVVE5R1P"
      },
      "source": [
        "### Query 4\n",
        "The number of trips that started in one borough and ended in another one"
      ]
    },
    {
      "cell_type": "code",
      "execution_count": 66,
      "metadata": {
        "colab": {
          "base_uri": "https://localhost:8080/"
        },
        "id": "-9kcTosn5R1P",
        "outputId": "545ec95c-8a92-40aa-d89f-e70c411b3625"
      },
      "outputs": [
        {
          "output_type": "stream",
          "name": "stdout",
          "text": [
            "+-------------------+--------------------+----------+\n",
            "|pickup_borough_name|dropoff_borough_name|trip_count|\n",
            "+-------------------+--------------------+----------+\n",
            "|          Manhattan|              Queens|       635|\n",
            "|          Manhattan|            Brooklyn|       491|\n",
            "|             Queens|           Manhattan|       294|\n",
            "|           Brooklyn|           Manhattan|       137|\n",
            "|          Manhattan|               Bronx|        72|\n",
            "|             Queens|            Brooklyn|        55|\n",
            "|           Brooklyn|              Queens|        25|\n",
            "|             Queens|               Bronx|         8|\n",
            "|          Manhattan|       Staten Island|         5|\n",
            "|              Bronx|           Manhattan|         2|\n",
            "|             Queens|       Staten Island|         1|\n",
            "+-------------------+--------------------+----------+\n",
            "\n"
          ]
        }
      ],
      "source": [
        "different_borough_trips_df = (taxi_df.filter(col(\"pickup_borough\") != col(\"dropoff_borough\")).groupBy(\"pickup_borough\", \"dropoff_borough\").agg(count(\"*\").alias(\"trip_count\")))\n",
        "\n",
        "# Create a separate aliased df for pickup and dropoff borough names\n",
        "borough_names_pickup = borough_names_df.alias(\"pickup\")\n",
        "borough_names_dropoff = borough_names_df.alias(\"dropoff\")\n",
        "\n",
        "# First join for pickup borough names\n",
        "pickup_joined = different_borough_trips_df.join(\n",
        "    borough_names_pickup,\n",
        "    different_borough_trips_df.pickup_borough == borough_names_pickup.borough_code,\n",
        "    \"left\"\n",
        ").withColumnRenamed(\"borough_name\", \"pickup_borough_name\")\n",
        "\n",
        "# Second join for dropoff borough names\n",
        "final_joined = pickup_joined.join(\n",
        "    borough_names_dropoff,\n",
        "    pickup_joined.dropoff_borough == borough_names_dropoff.borough_code,\n",
        "    \"left\"\n",
        ").withColumnRenamed(\"borough_name\", \"dropoff_borough_name\")\n",
        "\n",
        "# Show results\n",
        "result = final_joined.select(\"pickup_borough_name\", \"dropoff_borough_name\", \"trip_count\")\n",
        "result.orderBy(col(\"trip_count\").desc()).show()"
      ]
    }
  ],
  "metadata": {
    "application/vnd.databricks.v1+notebook": {
      "dashboards": [],
      "language": "python",
      "notebookMetadata": {
        "pythonIndentUnit": 2
      },
      "notebookName": "Practice session - Dataframe",
      "notebookOrigID": 1061204080530756,
      "widgets": {}
    },
    "kernelspec": {
      "display_name": "Python 3 (ipykernel)",
      "language": "python",
      "name": "python3"
    },
    "language_info": {
      "codemirror_mode": {
        "name": "ipython",
        "version": 3
      },
      "file_extension": ".py",
      "mimetype": "text/x-python",
      "name": "python",
      "nbconvert_exporter": "python",
      "pygments_lexer": "ipython3",
      "version": "3.11.10"
    },
    "colab": {
      "provenance": []
    }
  },
  "nbformat": 4,
  "nbformat_minor": 0
}
