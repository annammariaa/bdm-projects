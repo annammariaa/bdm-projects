{
 "cells": [
  {
   "cell_type": "markdown",
   "metadata": {},
   "source": [
    "# Big Data Management Project 1:\n",
    "## Analyzing New York City Taxi Data"
   ]
  },
  {
   "cell_type": "code",
   "execution_count": 1,
   "metadata": {},
   "outputs": [
    {
     "name": "stdout",
     "output_type": "stream",
     "text": [
      "Requirement already satisfied: shapely in /opt/conda/lib/python3.11/site-packages (2.0.7)\n",
      "Requirement already satisfied: numpy<3,>=1.14 in /opt/conda/lib/python3.11/site-packages (from shapely) (1.26.4)\n"
     ]
    }
   ],
   "source": [
    "!pip install shapely"
   ]
  },
  {
   "cell_type": "code",
   "execution_count": 2,
   "metadata": {},
   "outputs": [],
   "source": [
    "from pyspark.sql import SparkSession\n",
    "from pyspark.sql.functions import udf, unix_timestamp, col, lag, avg, lead, count, sum as spark_sum\n",
    "from pyspark.sql.types import StructType, StructField, StringType, IntegerType, TimestampType, DoubleType\n",
    "from pyspark.sql.window import Window\n",
    "\n",
    "import json\n",
    "import time\n",
    "\n",
    "from shapely.geometry import shape, Point"
   ]
  },
  {
   "cell_type": "code",
   "execution_count": 3,
   "metadata": {},
   "outputs": [],
   "source": [
    "spark = (SparkSession.builder\n",
    "                    .appName('BDM_Project1')\n",
    "                    .enableHiveSupport()\n",
    "                    .getOrCreate()\n",
    "        )"
   ]
  },
  {
   "cell_type": "markdown",
   "metadata": {},
   "source": [
    "### NYC Borough Data"
   ]
  },
  {
   "cell_type": "code",
   "execution_count": 4,
   "metadata": {},
   "outputs": [],
   "source": [
    "with open('input/nyc-boroughs.geojson') as f:\n",
    "    geo_data = json.load(f)\n",
    "\n",
    "# Broadcasting data to workers\n",
    "broadcast_geo_data = spark.sparkContext.broadcast(geo_data)\n",
    "\n",
    "# Creating a dictionary of borough codes and polygons within the borough\n",
    "polygons = {}\n",
    "b_names = {} # borough names by code\n",
    "\n",
    "for feature in broadcast_geo_data.value['features']:\n",
    "    \n",
    "    code = feature['properties']['boroughCode']\n",
    "    name = feature['properties']['borough']\n",
    "\n",
    "    if code not in polygons:\n",
    "        polygons[code] = []\n",
    "        b_names[code] = name\n",
    "    \n",
    "    polygons[code].append(shape(feature['geometry']))\n",
    "\n",
    "# Sorting borough polygons by area\n",
    "for code in polygons: \n",
    "    polygons[code] = sorted(\n",
    "        polygons[code], key=lambda x: x.area, reverse=True\n",
    "    )"
   ]
  },
  {
   "cell_type": "code",
   "execution_count": 5,
   "metadata": {},
   "outputs": [],
   "source": [
    "# UDF: longitude, latitude -> borough\n",
    "def get_borough(long, lat):\n",
    "    point = Point(long, lat)\n",
    "    \n",
    "    for code, pols in polygons.items():\n",
    "        for polygon in pols:\n",
    "            if polygon.contains(point):\n",
    "                return code\n",
    "    \n",
    "    return None\n",
    "\n",
    "get_borough_udf = udf(get_borough, IntegerType())"
   ]
  },
  {
   "cell_type": "markdown",
   "metadata": {},
   "source": [
    "### NYC Taxi Data"
   ]
  },
  {
   "cell_type": "code",
   "execution_count": 6,
   "metadata": {},
   "outputs": [
    {
     "name": "stdout",
     "output_type": "stream",
     "text": [
      "+--------------------------------+---------------+----------------+----------+----------------+-----------------+----------+--------+--------------+---------------+\n",
      "|hack_license                    |pickup_latitude|pickup_longitude|pickup_ts |dropoff_latitude|dropoff_longitude|dropoff_ts|duration|pickup_borough|dropoff_borough|\n",
      "+--------------------------------+---------------+----------------+----------+----------------+-----------------+----------+--------+--------------+---------------+\n",
      "|BA96DE419E711691B9445D6A6307C170|40.757977      |-73.978165      |1357053108|40.751171       |-73.989838       |1357053490|382000  |1             |1              |\n",
      "|9FD8F69F0804BDB5549F40E9DA1BE472|40.731781      |-74.006683      |1357431515|40.75066        |-73.994499       |1357431774|259000  |1             |1              |\n",
      "|9FD8F69F0804BDB5549F40E9DA1BE472|40.73777       |-74.004707      |1357411781|40.726002       |-74.009834       |1357412063|282000  |1             |1              |\n",
      "+--------------------------------+---------------+----------------+----------+----------------+-----------------+----------+--------+--------------+---------------+\n",
      "only showing top 3 rows\n",
      "\n",
      "Execution time 4.345160245895386\n"
     ]
    }
   ],
   "source": [
    "start_time = time.time() # To see the time it takes to execute data transformations\n",
    "\n",
    "# Defining the schema for faster reading of data\n",
    "schema = StructType([\n",
    "    StructField(\"medallion\", StringType(), True),\n",
    "    StructField(\"hack_license\", StringType(), True),\n",
    "    StructField(\"vendor_id\", StringType(), True),\n",
    "    StructField(\"rate_code\", StringType(), True),\n",
    "    StructField(\"store_and_fwd_flag\", StringType(), True),\n",
    "    StructField(\"pickup_datetime\", TimestampType(), True),\n",
    "    StructField(\"dropoff_datetime\", TimestampType(), True),\n",
    "    StructField(\"passenger_count\", StringType(), True),\n",
    "    StructField(\"trip_time_in_secs\", StringType(), True),\n",
    "    StructField(\"trip_distance\", StringType(), True),\n",
    "    StructField(\"pickup_longitude\", DoubleType(), True),\n",
    "    StructField(\"pickup_latitude\", DoubleType(), True),\n",
    "    StructField(\"dropoff_longitude\", DoubleType(), True),\n",
    "    StructField(\"dropoff_latitude\", DoubleType(), True)\n",
    "])\n",
    "\n",
    "# Creating a single dataframe of all the trip_data files\n",
    "taxi_df_og = (spark.read\n",
    "             .option(\"sep\", \",\")\n",
    "             .option(\"header\", True)\n",
    "             .schema(schema)\n",
    "             .csv(\"input/trip_data/trip_data_*.csv\")\n",
    "             #.csv([\"input/trip_data/trip_data_1.csv\"])\n",
    "          )\n",
    "\n",
    "# Moving the trips with 0 passengers to a separate dataframe, these will be added to idle times?\n",
    "zero_passenger_count = taxi_df_og.filter(taxi_df_og.passenger_count == \"0\")\n",
    "\n",
    "# Transforming the data (further explained in the project report)\n",
    "taxi_df = taxi_df_og.filter(\n",
    "    (taxi_df_og.passenger_count != \"0\") &\n",
    "    ~(\n",
    "        (taxi_df_og.trip_distance == 0) & \n",
    "        (taxi_df_og.pickup_longitude == taxi_df_og.dropoff_longitude) &\n",
    "        (taxi_df_og.pickup_latitude == taxi_df_og.dropoff_latitude)\n",
    "    )\n",
    ").withColumns({\n",
    "    \"pickup_ts\": unix_timestamp(\"pickup_datetime\", \"dd-MM-yy HH:mm\"),\n",
    "    \"dropoff_ts\": unix_timestamp(\"dropoff_datetime\", \"dd-MM-yy HH:mm\")\n",
    "}).withColumn(\n",
    "    \"duration\", (col(\"dropoff_ts\") - col(\"pickup_ts\")) * 1000 # convert to milliseconds\n",
    ").filter(\n",
    "    (col(\"duration\") > 0) & (col(\"duration\") <= 4 * 60 * 60 * 1000)\n",
    ").select(\n",
    "    \"hack_license\",\n",
    "    \"pickup_latitude\",\n",
    "    \"pickup_longitude\",\n",
    "    \"pickup_ts\",\n",
    "    \"dropoff_latitude\",\n",
    "    \"dropoff_longitude\",\n",
    "    \"dropoff_ts\",\n",
    "    \"duration\"\n",
    ").dropna()\n",
    "\n",
    "# Adding pick up and drop off boroughs to taxi data\n",
    "taxi_df = taxi_df.withColumn(\n",
    "    \"pickup_borough\", get_borough_udf(\"pickup_longitude\", \"pickup_latitude\")\n",
    ").withColumn(\n",
    "    \"dropoff_borough\", get_borough_udf(\"dropoff_longitude\", \"dropoff_latitude\")\n",
    ")\n",
    "taxi_df.show(3, truncate=False)\n",
    "\n",
    "print(\"Execution time\", time.time() - start_time)"
   ]
  },
  {
   "cell_type": "markdown",
   "metadata": {},
   "source": [
    "### Query 1\n",
    "Utilization: idle time per taxi"
   ]
  },
  {
   "cell_type": "code",
   "execution_count": 10,
   "metadata": {},
   "outputs": [
    {
     "name": "stdout",
     "output_type": "stream",
     "text": [
      "+--------------------+---------------+\n",
      "|        hack_license|total_idle_time|\n",
      "+--------------------+---------------+\n",
      "|02856AFC22881ABCA...|           2640|\n",
      "|03A2D28F831C5C3E5...|           6300|\n",
      "|0FBF11956EE14B253...|            120|\n",
      "|13CD9D132F9DFE9BD...|            300|\n",
      "|31195E1D3AA1EC26D...|           2100|\n",
      "|3183016714F5E253E...|           5640|\n",
      "|428AE5AF18511D16B...|          12180|\n",
      "|42D2B75CA34A867A4...|           8520|\n",
      "|49EE1E8ECFA1C6D35...|           7260|\n",
      "|4CEC9B9F46ABAB3AD...|           2640|\n",
      "|669FA40A7222D4DC2...|          11640|\n",
      "|69996930170E51265...|           4980|\n",
      "|7DA853581E8C09723...|          11340|\n",
      "|83279FE1F7D548407...|           6120|\n",
      "|8821CA9250E34A869...|           2220|\n",
      "|88B5A703C9407B0B3...|           6780|\n",
      "|980A15AE7BF88E611...|          26700|\n",
      "|A169B687A86BDE3FE...|           3540|\n",
      "|A7C47E60941315A0E...|           6000|\n",
      "|A7EE9AEDB7325F55F...|           3240|\n",
      "+--------------------+---------------+\n",
      "only showing top 20 rows\n",
      "\n"
     ]
    },
    {
     "data": {
      "text/plain": [
       "DataFrame[hack_license: string, pickup_latitude: double, pickup_longitude: double, pickup_ts: bigint, dropoff_latitude: double, dropoff_longitude: double, dropoff_ts: bigint, duration: bigint, pickup_borough: int, dropoff_borough: int, prev_dropoff_ts: bigint, idle_time: bigint]"
      ]
     },
     "execution_count": 10,
     "metadata": {},
     "output_type": "execute_result"
    }
   ],
   "source": [
    "# Copy taxi_df dataframe\n",
    "taxi_sample = taxi_df.limit(20000)\n",
    "taxi_copy = taxi_sample.select(\"*\")\n",
    "\n",
    "# Ensure all trips of the same driver are together\n",
    "taxi_copy = taxi_copy.repartition(\"hack_license\")\n",
    "\n",
    "# Partition by driver and then order by pickup time with Window\n",
    "window_sp = Window.partitionBy(\"hack_license\").orderBy(\"pickup_ts\")\n",
    "\n",
    "# Compute previous dropoff time\n",
    "taxi_copy = taxi_copy.withColumn(\"prev_dropoff_ts\", lag(\"dropoff_ts\").over(window_sp))\n",
    "\n",
    "# Compute idle time\n",
    "taxi_copy = taxi_copy.withColumn(\"idle_time\", col(\"pickup_ts\") - col(\"prev_dropoff_ts\"))\n",
    "\n",
    "taxi_copy.persist()\n",
    "\n",
    "# Control that ride is not over 4h\n",
    "taxi_copy = taxi_copy.filter((col(\"idle_time\").isNotNull()) & (col(\"idle_time\") <= 14400))\n",
    "\n",
    "# Group by driver and sum idle time\n",
    "result = taxi_copy.groupBy(\"hack_license\").agg(spark_sum(\"idle_time\").alias(\"total_idle_time\"))\n",
    "\n",
    "result.show()\n",
    "\n",
    "taxi_copy.unpersist()"
   ]
  },
  {
   "cell_type": "markdown",
   "metadata": {},
   "source": [
    "### Query 2\n",
    "The average time it takes for a taxi to find its next fare(trip) per destination borough"
   ]
  },
  {
   "cell_type": "code",
   "execution_count": 9,
   "metadata": {},
   "outputs": [
    {
     "name": "stdout",
     "output_type": "stream",
     "text": [
      "+-------------+------------------+\n",
      "| borough_name|  avg_waiting_time|\n",
      "+-------------+------------------+\n",
      "|    Manhattan|2397.5843868229213|\n",
      "|        Bronx| 3261.315789473684|\n",
      "|     Brooklyn|3325.5047318611987|\n",
      "|       Queens| 4060.951592356688|\n",
      "|Staten Island|            9630.0|\n",
      "+-------------+------------------+\n",
      "\n"
     ]
    },
    {
     "data": {
      "image/png": "[encoded data removed]",
      "text/plain": [
       "<Figure size 1000x600 with 1 Axes>"
      ]
     },
     "metadata": {},
     "output_type": "display_data"
    }
   ],
   "source": [
    "import matplotlib.pyplot as plt\n",
    "import seaborn as sns\n",
    "window_spec = Window.partitionBy(\"hack_license\").orderBy(\"pickup_ts\")\n",
    "\n",
    "# Get the next pickup time\n",
    "taxi_sample = taxi_df.limit(20000)\n",
    "next_pick_up = taxi_sample.withColumn(\"next_pickup_ts\", lead(\"pickup_ts\").over(window_spec))\n",
    "\n",
    "# Calculate waiting time\n",
    "wait_time = next_pick_up.withColumn(\"waiting_time\", (next_pick_up[\"next_pickup_ts\"] - next_pick_up[\"dropoff_ts\"]))\n",
    "\n",
    "# Filter out null values, null boroughs, and waiting times > 4 hours\n",
    "wait_time = wait_time.na.drop(subset=[\"next_pickup_ts\"])\n",
    "wait_time = wait_time.filter(wait_time[\"dropoff_borough\"].isNotNull())\n",
    "wait_time = wait_time.filter(col(\"waiting_time\") <= 14400)\n",
    "\n",
    "# Calculate average waiting time by dropoff borough\n",
    "result = wait_time.groupBy(\"dropoff_borough\").agg(avg(\"waiting_time\").alias(\"avg_waiting_time\"))\n",
    "\n",
    "# Create df from borough names\n",
    "borough_names_df = spark.createDataFrame([(code, name) for code, name in b_names.items()],\n",
    "                                         [\"dropoff_borough\", \"borough_name\"])\n",
    "query2_result = result.join(borough_names_df, on=\"dropoff_borough\", how=\"left\")\n",
    "query2_result = query2_result.select(\"borough_name\", \"avg_waiting_time\").orderBy(\"avg_waiting_time\")\n",
    "\n",
    "query2_result.show()\n",
    "\n",
    "#vizualise\n",
    "query2_pandas = query2_result.toPandas()\n",
    "plt.figure(figsize=(10, 6))\n",
    "sns.barplot(data=query2_pandas, x=\"avg_waiting_time\", y=\"borough_name\", hue=\"borough_name\", palette=\"viridis\", legend=False)\n",
    "plt.xlabel(\"Average waiting time in seconds\")\n",
    "plt.ylabel(\"Borough\")\n",
    "plt.title(\"Average waiting time by dropoff borough\")\n",
    "plt.show()"
   ]
  },
  {
   "cell_type": "markdown",
   "metadata": {},
   "source": [
    "### Query 3\n",
    "The number of trips that started and ended within the same borough"
   ]
  },
  {
   "cell_type": "code",
   "execution_count": 13,
   "metadata": {},
   "outputs": [
    {
     "name": "stdout",
     "output_type": "stream",
     "text": [
      "The number of trips that started and ended in the same borough per borough:\n",
      "+-------------+----------+\n",
      "| borough_name|trip_count|\n",
      "+-------------+----------+\n",
      "|    Manhattan|     15780|\n",
      "|     Brooklyn|       367|\n",
      "|       Queens|       338|\n",
      "|        Bronx|        11|\n",
      "|Staten Island|         1|\n",
      "+-------------+----------+\n",
      "\n"
     ]
    },
    {
     "name": "stderr",
     "output_type": "stream",
     "text": [
      "/tmp/ipykernel_109/1362980702.py:23: FutureWarning: \n",
      "\n",
      "Passing `palette` without assigning `hue` is deprecated and will be removed in v0.14.0. Assign the `y` variable to `hue` and set `legend=False` for the same effect.\n",
      "\n",
      "  sns.barplot(data=same_borough_trips_pandas, x=\"trip_count\", y=\"borough_name\", palette=\"viridis\")\n"
     ]
    },
    {
     "data": {
      "image/png": "[encoded data removed]",
      "text/plain": [
       "<Figure size 1000x600 with 1 Axes>"
      ]
     },
     "metadata": {},
     "output_type": "display_data"
    }
   ],
   "source": [
    "# Filter df to only include trips that start and end in same borough, group by pickup boroughs\n",
    "same_borough_trips_df = taxi_sample.filter(col(\"pickup_borough\") == col(\"dropoff_borough\")).groupBy(\"pickup_borough\").agg(count(\"*\").alias(\"trip_count\"))\n",
    "\n",
    "# Put borough names and codes in new df to be used in next step\n",
    "borough_names_df = spark.createDataFrame([(code, name) for code, name in b_names.items()],\n",
    "                                        [\"borough_code\", \"borough_name\"])\n",
    "\n",
    "# Replace borough codes w borough names\n",
    "same_borough_trips_named = same_borough_trips_df.join(\n",
    "    borough_names_df,\n",
    "    same_borough_trips_df.pickup_borough == borough_names_df.borough_code,\n",
    "    \"left\"\n",
    ")\n",
    "\n",
    "# Show results'\n",
    "print(\"The number of trips that started and ended in the same borough per borough:\")\n",
    "same_borough_trips_named = same_borough_trips_named.select(\"borough_name\", \"trip_count\")\n",
    "same_borough_trips_named.show()\n",
    "\n",
    "#vizualise\n",
    "same_borough_trips_pandas = same_borough_trips_named.toPandas()\n",
    "plt.figure(figsize=(10, 6))\n",
    "sns.barplot(data=same_borough_trips_pandas, x=\"trip_count\", y=\"borough_name\", palette=\"viridis\")\n",
    "plt.xlabel(\"Number of Trips\")\n",
    "plt.ylabel(\"Borough\")\n",
    "plt.title(\"Number of Trips That Start and End in the Same Borough\")\n",
    "plt.show()"
   ]
  },
  {
   "cell_type": "markdown",
   "metadata": {},
   "source": [
    "### Query 4\n",
    "The number of trips that started in one borough and ended in another one"
   ]
  },
  {
   "cell_type": "code",
   "execution_count": 17,
   "metadata": {},
   "outputs": [
    {
     "name": "stdout",
     "output_type": "stream",
     "text": [
      "3065\n"
     ]
    }
   ],
   "source": [
    "taxi_sample = taxi_df.limit(20000)\n",
    "sumOfTripsBoroughDifferent = taxi_sample.filter(col(\"pickup_borough\") != col(\"dropoff_borough\")).count()\n",
    "print(sumOfTripsBoroughDifferent)"
   ]
  }
 ],
 "metadata": {
  "application/vnd.databricks.v1+notebook": {
   "dashboards": [],
   "language": "python",
   "notebookMetadata": {
    "pythonIndentUnit": 2
   },
   "notebookName": "Practice session - Dataframe",
   "notebookOrigID": 1061204080530756,
   "widgets": {}
  },
  "kernelspec": {
   "display_name": "Python 3 (ipykernel)",
   "language": "python",
   "name": "python3"
  },
  "language_info": {
   "codemirror_mode": {
    "name": "ipython",
    "version": 3
   },
   "file_extension": ".py",
   "mimetype": "text/x-python",
   "name": "python",
   "nbconvert_exporter": "python",
   "pygments_lexer": "ipython3",
   "version": "3.11.10"
  }
 },
 "nbformat": 4,
 "nbformat_minor": 4
}
