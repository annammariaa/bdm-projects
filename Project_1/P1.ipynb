{
 "cells": [
  {
   "cell_type": "markdown",
   "metadata": {
    "id": "E1w9AYcq5R1L"
   },
   "source": [
    "# Big Data Management Project 1:\n",
    "## Analyzing New York City Taxi Data"
   ]
  },
  {
   "cell_type": "code",
   "execution_count": 1,
   "metadata": {
    "colab": {
     "base_uri": "https://localhost:8080/"
    },
    "id": "OpzgMHds5R1M",
    "outputId": "c2717441-381b-48f5-8e5b-2c43f3ebd6d6"
   },
   "outputs": [
    {
     "name": "stdout",
     "output_type": "stream",
     "text": [
      "Collecting shapely\n",
      "  Using cached shapely-2.0.7-cp311-cp311-manylinux_2_17_x86_64.manylinux2014_x86_64.whl.metadata (6.8 kB)\n",
      "Requirement already satisfied: numpy<3,>=1.14 in /opt/conda/lib/python3.11/site-packages (from shapely) (1.26.4)\n",
      "Using cached shapely-2.0.7-cp311-cp311-manylinux_2_17_x86_64.manylinux2014_x86_64.whl (2.5 MB)\n",
      "Installing collected packages: shapely\n",
      "Successfully installed shapely-2.0.7\n"
     ]
    }
   ],
   "source": [
    "!pip install shapely"
   ]
  },
  {
   "cell_type": "code",
   "execution_count": 2,
   "metadata": {
    "id": "AIlRInxc5R1N"
   },
   "outputs": [],
   "source": [
    "from pyspark.sql import SparkSession\n",
    "from pyspark.sql.functions import udf, unix_timestamp, col, lag, avg, lead, count, sum as spark_sum, floor\n",
    "from pyspark.sql.types import StructType, StructField, StringType, IntegerType, TimestampType, DoubleType\n",
    "from pyspark.sql.window import Window\n",
    "\n",
    "import json\n",
    "import time\n",
    "\n",
    "from shapely.geometry import shape, Point"
   ]
  },
  {
   "cell_type": "code",
   "execution_count": 3,
   "metadata": {
    "id": "gLNNqDSZ5R1O"
   },
   "outputs": [],
   "source": [
    "spark = (SparkSession.builder\n",
    "                    .appName('BDM_Project1')\n",
    "                    .enableHiveSupport()\n",
    "                    .getOrCreate()\n",
    "        )"
   ]
  },
  {
   "cell_type": "markdown",
   "metadata": {
    "id": "O_NyMxyS5R1O"
   },
   "source": [
    "### NYC Borough Data"
   ]
  },
  {
   "cell_type": "code",
   "execution_count": 4,
   "metadata": {
    "id": "UHCWtjcE5R1O"
   },
   "outputs": [],
   "source": [
    "with open('input/nyc-boroughs.geojson') as f:\n",
    "    geo_data = json.load(f)\n",
    "\n",
    "# Broadcasting data to workers\n",
    "broadcast_geo_data = spark.sparkContext.broadcast(geo_data)\n",
    "\n",
    "# Creating a dictionary of borough codes and polygons within the borough\n",
    "polygons = {}\n",
    "b_names = {} # borough names by code\n",
    "\n",
    "for feature in broadcast_geo_data.value['features']:\n",
    "\n",
    "    code = feature['properties']['boroughCode']\n",
    "    name = feature['properties']['borough']\n",
    "\n",
    "    if code not in polygons:\n",
    "        polygons[code] = []\n",
    "        b_names[code] = name\n",
    "\n",
    "    polygons[code].append(shape(feature['geometry']))\n",
    "\n",
    "# Sorting borough polygons by area\n",
    "for code in polygons:\n",
    "    polygons[code] = sorted(\n",
    "        polygons[code], key=lambda x: x.area, reverse=True\n",
    "    )"
   ]
  },
  {
   "cell_type": "code",
   "execution_count": 5,
   "metadata": {
    "id": "Ez7SlBkl5R1O"
   },
   "outputs": [],
   "source": [
    "# UDF: longitude, latitude -> borough\n",
    "def get_borough(long, lat):\n",
    "    point = Point(long, lat)\n",
    "\n",
    "    for code, pols in polygons.items():\n",
    "        for polygon in pols:\n",
    "            if polygon.contains(point):\n",
    "                return code\n",
    "\n",
    "    return None\n",
    "\n",
    "get_borough_udf = udf(get_borough, IntegerType())"
   ]
  },
  {
   "cell_type": "markdown",
   "metadata": {
    "id": "bJSJuQQ65R1O"
   },
   "source": [
    "### NYC Taxi Data"
   ]
  },
  {
   "cell_type": "code",
   "execution_count": 6,
   "metadata": {
    "colab": {
     "base_uri": "https://localhost:8080/"
    },
    "id": "OYAFRgWI5R1O",
    "outputId": "cc41f6c7-b5d7-4ad4-9050-8ac6ca454008"
   },
   "outputs": [
    {
     "name": "stdout",
     "output_type": "stream",
     "text": [
      "+--------------------------------+---------------+----------------+----------+----------------+-----------------+----------+--------+--------------+---------------+\n",
      "|hack_license                    |pickup_latitude|pickup_longitude|pickup_ts |dropoff_latitude|dropoff_longitude|dropoff_ts|duration|pickup_borough|dropoff_borough|\n",
      "+--------------------------------+---------------+----------------+----------+----------------+-----------------+----------+--------+--------------+---------------+\n",
      "|BA96DE419E711691B9445D6A6307C170|40.757977      |-73.978165      |1357053108|40.751171       |-73.989838       |1357053490|382     |1             |1              |\n",
      "|9FD8F69F0804BDB5549F40E9DA1BE472|40.731781      |-74.006683      |1357431515|40.75066        |-73.994499       |1357431774|259     |1             |1              |\n",
      "|9FD8F69F0804BDB5549F40E9DA1BE472|40.73777       |-74.004707      |1357411781|40.726002       |-74.009834       |1357412063|282     |1             |1              |\n",
      "|51EE87E3205C985EF8431D850C786310|40.759945      |-73.974602      |1357602855|40.759388       |-73.984734       |1357603100|245     |1             |1              |\n",
      "|51EE87E3205C985EF8431D850C786310|40.748528      |-73.97625       |1357601103|40.747868       |-74.002586       |1357601664|561     |1             |1              |\n",
      "+--------------------------------+---------------+----------------+----------+----------------+-----------------+----------+--------+--------------+---------------+\n",
      "only showing top 5 rows\n",
      "\n",
      "Execution time 6.672400951385498\n"
     ]
    }
   ],
   "source": [
    "start_time = time.time() # To see the time it takes to execute data transformations\n",
    "\n",
    "# Defining the schema for faster reading of data\n",
    "schema = StructType([\n",
    "    StructField(\"medallion\", StringType(), True),\n",
    "    StructField(\"hack_license\", StringType(), True),\n",
    "    StructField(\"vendor_id\", StringType(), True),\n",
    "    StructField(\"rate_code\", StringType(), True),\n",
    "    StructField(\"store_and_fwd_flag\", StringType(), True),\n",
    "    StructField(\"pickup_datetime\", TimestampType(), True),\n",
    "    StructField(\"dropoff_datetime\", TimestampType(), True),\n",
    "    StructField(\"passenger_count\", StringType(), True),\n",
    "    StructField(\"trip_time_in_secs\", StringType(), True),\n",
    "    StructField(\"trip_distance\", StringType(), True),\n",
    "    StructField(\"pickup_longitude\", DoubleType(), True),\n",
    "    StructField(\"pickup_latitude\", DoubleType(), True),\n",
    "    StructField(\"dropoff_longitude\", DoubleType(), True),\n",
    "    StructField(\"dropoff_latitude\", DoubleType(), True)\n",
    "])\n",
    "\n",
    "# Creating a single dataframe of all the trip_data files\n",
    "taxi_df_og = (spark.read\n",
    "             .option(\"sep\", \",\")\n",
    "             .option(\"header\", True)\n",
    "             .schema(schema)\n",
    "             .csv(\"input/trip_data/trip_data_*.csv\")\n",
    "             #.csv([\"input/trip_data/trip_data_1.csv\"])\n",
    "          )\n",
    "\n",
    "# Removing the trips with 0 passengers\n",
    "# Transforming the data (further explained in the project report)\n",
    "taxi_df = taxi_df_og.filter(\n",
    "    (taxi_df_og.passenger_count != \"0\") &\n",
    "    ~(\n",
    "        (taxi_df_og.trip_distance == 0) &\n",
    "        (taxi_df_og.pickup_longitude == taxi_df_og.dropoff_longitude) &\n",
    "        (taxi_df_og.pickup_latitude == taxi_df_og.dropoff_latitude)\n",
    "    )\n",
    ").withColumns({\n",
    "    \"pickup_ts\": unix_timestamp(\"pickup_datetime\", \"dd-MM-yy HH:mm\"),\n",
    "    \"dropoff_ts\": unix_timestamp(\"dropoff_datetime\", \"dd-MM-yy HH:mm\")\n",
    "}).withColumn(\n",
    "    \"duration\", col(\"dropoff_ts\") - col(\"pickup_ts\")\n",
    ").filter(\n",
    "    (col(\"duration\") > 0) & (col(\"duration\") <= 4 * 60 * 60)\n",
    ").select(\n",
    "    \"hack_license\",\n",
    "    \"pickup_latitude\",\n",
    "    \"pickup_longitude\",\n",
    "    \"pickup_ts\",\n",
    "    \"dropoff_latitude\",\n",
    "    \"dropoff_longitude\",\n",
    "    \"dropoff_ts\",\n",
    "    \"duration\"\n",
    ").dropna()\n",
    "\n",
    "# Adding pick up and drop off boroughs to taxi data\n",
    "taxi_df = taxi_df.withColumn(\n",
    "    \"pickup_borough\", get_borough_udf(\"pickup_longitude\", \"pickup_latitude\")\n",
    ").withColumn(\n",
    "    \"dropoff_borough\", get_borough_udf(\"dropoff_longitude\", \"dropoff_latitude\")\n",
    ")\n",
    "taxi_df.show(5, truncate=False)\n",
    "\n",
    "print(\"Execution time\", time.time() - start_time)"
   ]
  },
  {
   "cell_type": "markdown",
   "metadata": {
    "id": "vIv-IUsW5R1O"
   },
   "source": [
    "### Query 1\n",
    "Utilization: idle time per taxi"
   ]
  },
  {
   "cell_type": "code",
   "execution_count": 7,
   "metadata": {
    "colab": {
     "base_uri": "https://localhost:8080/"
    },
    "id": "U31yCwN_5R1P",
    "outputId": "d7cdaaee-fb1e-4347-aef0-55818fbb2b7d"
   },
   "outputs": [
    {
     "name": "stdout",
     "output_type": "stream",
     "text": [
      "+--------------------+---------------+-------------------+----------+-------------------+\n",
      "|        hack_license|total_idle_time|total_ride_duration|total_time|   utilization_rate|\n",
      "+--------------------+---------------+-------------------+----------+-------------------+\n",
      "|001EEDEA00E57988E...|        2824815|            3997082|   6821897| 0.5859194297421964|\n",
      "|00C2BC1F860FC66BA...|        3476121|            4458427|   7934548| 0.5619005644681966|\n",
      "|013DB7F394A06CD24...|        3156241|            3770415|   6926656| 0.5443340913710742|\n",
      "|01594037EE38FE0D9...|          96540|             114360|    210900| 0.5422475106685632|\n",
      "|015D33FBAB8A7C5CE...|        4319100|            3831240|   8150340| 0.4700711872142757|\n",
      "|01606C9E10D8D0B19...|        3479773|            3549859|   7029632| 0.5049850404686903|\n",
      "|024B2794FF91BF97F...|        2489916|            3175059|   5664975| 0.5604718467424834|\n",
      "|02548BECEDACA82F0...|        4156986|            2832100|   6989086|0.40521750626619846|\n",
      "|02856AFC22881ABCA...|        3082740|            2758680|   5841420| 0.4722618815288063|\n",
      "|02E3C1D2FE5D53C22...|          85142|              71026|    156168| 0.4548050817068798|\n",
      "+--------------------+---------------+-------------------+----------+-------------------+\n",
      "only showing top 10 rows\n",
      "\n"
     ]
    }
   ],
   "source": [
    "# Copy taxi_df dataframe\n",
    "taxi_copy = (\n",
    "    taxi_df\n",
    "    .select(\"hack_license\", \"pickup_ts\", \"dropoff_ts\", \"dropoff_borough\")\n",
    "    .repartition(\"hack_license\")\n",
    ")\n",
    "\n",
    "# Partition by driver and then order by pickup time with Window\n",
    "window_sp = Window.partitionBy(\"hack_license\").orderBy(\"pickup_ts\")\n",
    "\n",
    "# Compute previous dropoff time and idle time\n",
    "taxi_copy = (\n",
    "    taxi_copy.withColumn(\"prev_dropoff_ts\", lag(\"dropoff_ts\").over(window_sp))\n",
    "             .withColumn(\"idle_time\", col(\"pickup_ts\") - col(\"prev_dropoff_ts\"))\n",
    ")\n",
    "\n",
    "# Control that idle time is not over 4h and filter out rows where pickup_ts < prev_dropoff_ts (overlapping trips)\n",
    "taxi_copy = taxi_copy.filter(\n",
    "    (col(\"idle_time\").isNotNull()) &\n",
    "    (col(\"idle_time\") > 0) &\n",
    "    (col(\"idle_time\") <= 4 * 60 * 60)\n",
    ")\n",
    "\n",
    "# Group by driver and calculate total idle time and total ride duration\n",
    "taxi_stats = (\n",
    "    taxi_copy.groupBy(\"hack_license\")\n",
    "    .agg(\n",
    "        spark_sum(\"idle_time\").alias(\"total_idle_time\"),\n",
    "        spark_sum(col(\"dropoff_ts\") - col(\"pickup_ts\")).alias(\"total_ride_duration\")\n",
    "    )\n",
    ")\n",
    "\n",
    "# Calculate utilization rate\n",
    "utilization_df = (\n",
    "    taxi_stats.withColumn(\"total_time\", col(\"total_idle_time\") + col(\"total_ride_duration\"))\n",
    "              .withColumn(\"utilization_rate\", col(\"total_ride_duration\") / col(\"total_time\"))\n",
    ")\n",
    "\n",
    "utilization_df.show(10)"
   ]
  },
  {
   "cell_type": "code",
   "execution_count": 11,
   "metadata": {
    "pycharm": {
     "name": "#%%\n"
    }
   },
   "outputs": [
    {
     "name": "stdout",
     "output_type": "stream",
     "text": [
      "+--------------------+\n",
      "|avg_utilization_rate|\n",
      "+--------------------+\n",
      "|    0.50287482780684|\n",
      "+--------------------+\n",
      "\n"
     ]
    }
   ],
   "source": [
    "avg_utilization_rate = utilization_df.agg(avg(\"utilization_rate\").alias(\"avg_utilization_rate\"))\n",
    "\n",
    "# Show the result\n",
    "avg_utilization_rate.show()"
   ]
  }
 ],
 "metadata": {
  "application/vnd.databricks.v1+notebook": {
   "dashboards": [],
   "language": "python",
   "notebookMetadata": {
    "pythonIndentUnit": 2
   },
   "notebookName": "Practice session - Dataframe",
   "notebookOrigID": 1061204080530756,
   "widgets": {}
  },
  "colab": {
   "provenance": []
  },
  "kernelspec": {
   "display_name": "Python 3 (ipykernel)",
   "language": "python",
   "name": "python3"
  },
  "language_info": {
   "codemirror_mode": {
    "name": "ipython",
    "version": 3
   },
   "file_extension": ".py",
   "mimetype": "text/x-python",
   "name": "python",
   "nbconvert_exporter": "python",
   "pygments_lexer": "ipython3",
   "version": "3.11.10"
  }
 },
 "nbformat": 4,
 "nbformat_minor": 4
}