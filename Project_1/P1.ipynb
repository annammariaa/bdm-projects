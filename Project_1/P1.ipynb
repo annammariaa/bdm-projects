{
 "cells": [
  {
   "cell_type": "markdown",
   "metadata": {
    "id": "E1w9AYcq5R1L"
   },
   "source": [
    "# Big Data Management Project 1:\n",
    "## Analyzing New York City Taxi Data"
   ]
  },
  {
   "cell_type": "code",
   "execution_count": 1,
   "metadata": {
    "colab": {
     "base_uri": "https://localhost:8080/"
    },
    "id": "OpzgMHds5R1M",
    "outputId": "c2717441-381b-48f5-8e5b-2c43f3ebd6d6"
   },
   "outputs": [
    {
     "name": "stdout",
     "output_type": "stream",
     "text": [
      "Requirement already satisfied: shapely in /opt/conda/lib/python3.11/site-packages (2.0.7)\n",
      "Requirement already satisfied: numpy<3,>=1.14 in /opt/conda/lib/python3.11/site-packages (from shapely) (1.26.4)\n"
     ]
    }
   ],
   "source": [
    "!pip install shapely"
   ]
  },
  {
   "cell_type": "code",
   "execution_count": 2,
   "metadata": {
    "id": "AIlRInxc5R1N"
   },
   "outputs": [],
   "source": [
    "from pyspark.sql import SparkSession\n",
    "from pyspark.sql.functions import udf, unix_timestamp, col, lag, avg, lead, count, sum as spark_sum\n",
    "from pyspark.sql.types import StructType, StructField, StringType, IntegerType, TimestampType, DoubleType\n",
    "from pyspark.sql.window import Window\n",
    "\n",
    "import json\n",
    "import time\n",
    "\n",
    "from shapely.geometry import shape, Point"
   ]
  },
  {
   "cell_type": "code",
   "execution_count": 3,
   "metadata": {
    "id": "gLNNqDSZ5R1O"
   },
   "outputs": [],
   "source": [
    "spark = (SparkSession.builder\n",
    "                    .appName('BDM_Project1')\n",
    "                    .enableHiveSupport()\n",
    "                    .getOrCreate()\n",
    "        )"
   ]
  },
  {
   "cell_type": "markdown",
   "metadata": {
    "id": "O_NyMxyS5R1O"
   },
   "source": [
    "### NYC Borough Data"
   ]
  },
  {
   "cell_type": "code",
   "execution_count": 4,
   "metadata": {
    "id": "UHCWtjcE5R1O"
   },
   "outputs": [],
   "source": [
    "with open('input/nyc-boroughs.geojson') as f:\n",
    "    geo_data = json.load(f)\n",
    "\n",
    "# Broadcasting data to workers\n",
    "broadcast_geo_data = spark.sparkContext.broadcast(geo_data)\n",
    "\n",
    "# Creating a dictionary of borough codes and polygons within the borough\n",
    "polygons = {}\n",
    "b_names = {} # borough names by code\n",
    "\n",
    "for feature in broadcast_geo_data.value['features']:\n",
    "\n",
    "    code = feature['properties']['boroughCode']\n",
    "    name = feature['properties']['borough']\n",
    "\n",
    "    if code not in polygons:\n",
    "        polygons[code] = []\n",
    "        b_names[code] = name\n",
    "\n",
    "    polygons[code].append(shape(feature['geometry']))\n",
    "\n",
    "# Sorting borough polygons by area\n",
    "for code in polygons:\n",
    "    polygons[code] = sorted(\n",
    "        polygons[code], key=lambda x: x.area, reverse=True\n",
    "    )"
   ]
  },
  {
   "cell_type": "code",
   "execution_count": 5,
   "metadata": {
    "id": "Ez7SlBkl5R1O"
   },
   "outputs": [],
   "source": [
    "# UDF: longitude, latitude -> borough\n",
    "def get_borough(long, lat):\n",
    "    point = Point(long, lat)\n",
    "\n",
    "    for code, pols in polygons.items():\n",
    "        for polygon in pols:\n",
    "            if polygon.contains(point):\n",
    "                return code\n",
    "\n",
    "    return None\n",
    "\n",
    "get_borough_udf = udf(get_borough, IntegerType())"
   ]
  },
  {
   "cell_type": "markdown",
   "metadata": {
    "id": "bJSJuQQ65R1O"
   },
   "source": [
    "### NYC Taxi Data"
   ]
  },
  {
   "cell_type": "code",
   "execution_count": 6,
   "metadata": {
    "colab": {
     "base_uri": "https://localhost:8080/"
    },
    "id": "OYAFRgWI5R1O",
    "outputId": "cc41f6c7-b5d7-4ad4-9050-8ac6ca454008"
   },
   "outputs": [
    {
     "name": "stdout",
     "output_type": "stream",
     "text": [
      "+--------------------------------+---------------+----------------+----------+----------------+-----------------+----------+--------+--------------+---------------+\n",
      "|hack_license                    |pickup_latitude|pickup_longitude|pickup_ts |dropoff_latitude|dropoff_longitude|dropoff_ts|duration|pickup_borough|dropoff_borough|\n",
      "+--------------------------------+---------------+----------------+----------+----------------+-----------------+----------+--------+--------------+---------------+\n",
      "|BA96DE419E711691B9445D6A6307C170|40.757977      |-73.978165      |1357053108|40.751171       |-73.989838       |1357053490|382     |1             |1              |\n",
      "|9FD8F69F0804BDB5549F40E9DA1BE472|40.731781      |-74.006683      |1357431515|40.75066        |-73.994499       |1357431774|259     |1             |1              |\n",
      "|9FD8F69F0804BDB5549F40E9DA1BE472|40.73777       |-74.004707      |1357411781|40.726002       |-74.009834       |1357412063|282     |1             |1              |\n",
      "|51EE87E3205C985EF8431D850C786310|40.759945      |-73.974602      |1357602855|40.759388       |-73.984734       |1357603100|245     |1             |1              |\n",
      "|51EE87E3205C985EF8431D850C786310|40.748528      |-73.97625       |1357601103|40.747868       |-74.002586       |1357601664|561     |1             |1              |\n",
      "+--------------------------------+---------------+----------------+----------+----------------+-----------------+----------+--------+--------------+---------------+\n",
      "only showing top 5 rows\n",
      "\n",
      "Execution time 3.0441386699676514\n"
     ]
    }
   ],
   "source": [
    "start_time = time.time() # To see the time it takes to execute data transformations\n",
    "\n",
    "# Defining the schema for faster reading of data\n",
    "schema = StructType([\n",
    "    StructField(\"medallion\", StringType(), True),\n",
    "    StructField(\"hack_license\", StringType(), True),\n",
    "    StructField(\"vendor_id\", StringType(), True),\n",
    "    StructField(\"rate_code\", StringType(), True),\n",
    "    StructField(\"store_and_fwd_flag\", StringType(), True),\n",
    "    StructField(\"pickup_datetime\", TimestampType(), True),\n",
    "    StructField(\"dropoff_datetime\", TimestampType(), True),\n",
    "    StructField(\"passenger_count\", StringType(), True),\n",
    "    StructField(\"trip_time_in_secs\", StringType(), True),\n",
    "    StructField(\"trip_distance\", StringType(), True),\n",
    "    StructField(\"pickup_longitude\", DoubleType(), True),\n",
    "    StructField(\"pickup_latitude\", DoubleType(), True),\n",
    "    StructField(\"dropoff_longitude\", DoubleType(), True),\n",
    "    StructField(\"dropoff_latitude\", DoubleType(), True)\n",
    "])\n",
    "\n",
    "# Creating a single dataframe of all the trip_data files\n",
    "taxi_df_og = (spark.read\n",
    "             .option(\"sep\", \",\")\n",
    "             .option(\"header\", True)\n",
    "             .schema(schema)\n",
    "             .csv(\"input/trip_data/trip_data_*.csv\")\n",
    "             #.csv([\"input/trip_data/trip_data_1.csv\"])\n",
    "          )\n",
    "\n",
    "# Removing the trips with 0 passengers\n",
    "# Transforming the data (further explained in the project report)\n",
    "taxi_df = taxi_df_og.filter(\n",
    "    (taxi_df_og.passenger_count != \"0\") &\n",
    "    ~(\n",
    "        (taxi_df_og.trip_distance == 0) &\n",
    "        (taxi_df_og.pickup_longitude == taxi_df_og.dropoff_longitude) &\n",
    "        (taxi_df_og.pickup_latitude == taxi_df_og.dropoff_latitude)\n",
    "    )\n",
    ").withColumns({\n",
    "    \"pickup_ts\": unix_timestamp(\"pickup_datetime\", \"dd-MM-yy HH:mm\"),\n",
    "    \"dropoff_ts\": unix_timestamp(\"dropoff_datetime\", \"dd-MM-yy HH:mm\")\n",
    "}).withColumn(\n",
    "    \"duration\", col(\"dropoff_ts\") - col(\"pickup_ts\")\n",
    ").filter(\n",
    "    (col(\"duration\") > 0) & (col(\"duration\") <= 4 * 60 * 60)\n",
    ").select(\n",
    "    \"hack_license\",\n",
    "    \"pickup_latitude\",\n",
    "    \"pickup_longitude\",\n",
    "    \"pickup_ts\",\n",
    "    \"dropoff_latitude\",\n",
    "    \"dropoff_longitude\",\n",
    "    \"dropoff_ts\",\n",
    "    \"duration\"\n",
    ").dropna()\n",
    "\n",
    "# Adding pick up and drop off boroughs to taxi data\n",
    "taxi_df = taxi_df.withColumn(\n",
    "    \"pickup_borough\", get_borough_udf(\"pickup_longitude\", \"pickup_latitude\")\n",
    ").withColumn(\n",
    "    \"dropoff_borough\", get_borough_udf(\"dropoff_longitude\", \"dropoff_latitude\")\n",
    ")\n",
    "taxi_df.show(5, truncate=False)\n",
    "\n",
    "print(\"Execution time\", time.time() - start_time)"
   ]
  },
  {
   "cell_type": "markdown",
   "metadata": {
    "id": "vIv-IUsW5R1O"
   },
   "source": [
    "### Query 1\n",
    "Utilization: idle time per taxi"
   ]
  },
  {
   "cell_type": "code",
   "execution_count": 7,
   "metadata": {
    "colab": {
     "base_uri": "https://localhost:8080/"
    },
    "id": "U31yCwN_5R1P",
    "outputId": "d7cdaaee-fb1e-4347-aef0-55818fbb2b7d"
   },
   "outputs": [
    {
     "name": "stdout",
     "output_type": "stream",
     "text": [
      "+--------------------+---------------+-------------------+----------+-------------------+\n",
      "|        hack_license|total_idle_time|total_ride_duration|total_time|   utilization_rate|\n",
      "+--------------------+---------------+-------------------+----------+-------------------+\n",
      "|001EEDEA00E57988E...|         293027|             308115|    601142| 0.5125494475514937|\n",
      "|01606C9E10D8D0B19...|         277259|             300871|    578130| 0.5204210125750264|\n",
      "|02548BECEDACA82F0...|         205033|              97009|    302042| 0.3211771872785904|\n",
      "|02856AFC22881ABCA...|         425100|             353220|    778320| 0.4538236201048412|\n",
      "|02E3C1D2FE5D53C22...|          85142|              71026|    156168| 0.4548050817068798|\n",
      "|03A2D28F831C5C3E5...|         393780|             402300|    796080| 0.5053512209828158|\n",
      "|069B5562096AF7684...|         312240|             242460|    554700| 0.4371011357490535|\n",
      "|0ABC9AB316BE37A29...|         158923|             190124|    349047| 0.5446945540285406|\n",
      "|0DC7C87D535512AF8...|          19593|              17017|     36610|0.46481835564053536|\n",
      "|0E087EC55DCBE7B2D...|          10554|                414|     10968|0.03774617067833698|\n",
      "|0FBF11956EE14B253...|         374160|             294240|    668400| 0.4402154398563734|\n",
      "|130328475AD7427AF...|         396180|             279180|    675360| 0.4133795309168444|\n",
      "|138B0A7B7D3B898E4...|         513480|             314580|    828060|0.37990000724585177|\n",
      "|13CD9D132F9DFE9BD...|         409440|             320400|    729840|0.43900032883919765|\n",
      "|1480A09D886B1A2CD...|         395806|             296245|    692051| 0.4280681626065131|\n",
      "|1700002963A49DA13...|           1330|                 71|      1401|0.05067808708065667|\n",
      "|1784F97DB813A7A08...|          12480|               6600|     19080|0.34591194968553457|\n",
      "|1B1E5E9C261486674...|         437760|             340560|    778320| 0.4375578168362627|\n",
      "|1C9CFD66A56E26289...|         213864|             196300|    410164|0.47858905218400444|\n",
      "|1DA52B2BAC4B9D2C7...|         388026|             205192|    593218|0.34589644953457244|\n",
      "+--------------------+---------------+-------------------+----------+-------------------+\n",
      "only showing top 20 rows\n",
      "\n"
     ]
    },
    {
     "data": {
      "text/plain": [
       "DataFrame[hack_license: string, pickup_latitude: double, pickup_longitude: double, pickup_ts: bigint, dropoff_latitude: double, dropoff_longitude: double, dropoff_ts: bigint, duration: bigint, pickup_borough: int, dropoff_borough: int, prev_dropoff_ts: bigint, idle_time: bigint]"
      ]
     },
     "execution_count": 7,
     "metadata": {},
     "output_type": "execute_result"
    }
   ],
   "source": [
    "# Copy taxi_df dataframe\n",
    "taxi_copy = taxi_df.select(\"*\")\n",
    "\n",
    "# Ensure all trips of the same driver are together\n",
    "taxi_copy = taxi_copy.repartition(\"hack_license\")\n",
    "\n",
    "# Partition by driver and then order by pickup time with Window\n",
    "window_sp = Window.partitionBy(\"hack_license\").orderBy(\"pickup_ts\")\n",
    "\n",
    "# Compute previous dropoff time\n",
    "taxi_copy = taxi_copy.withColumn(\"prev_dropoff_ts\", lag(\"dropoff_ts\").over(window_sp))\n",
    "\n",
    "# Compute idle time\n",
    "taxi_copy = taxi_copy.withColumn(\"idle_time\", (col(\"pickup_ts\") - col(\"prev_dropoff_ts\")))\n",
    "\n",
    "taxi_copy.persist()\n",
    "\n",
    "# Control that idle time is not over 4h and filter out rows where pickup_ts < prev_dropoff_ts (overlapping trips)\n",
    "taxi_copy = taxi_copy.filter(\n",
    "    (col(\"idle_time\").isNotNull()) &\n",
    "    (col(\"idle_time\") > 0) &\n",
    "    (col(\"idle_time\") <= 4 * 60 * 60)\n",
    ")\n",
    "\n",
    "# Group by driver and calculate total idle time and total ride duration\n",
    "taxi_stats = taxi_copy.groupBy(\"hack_license\").agg(\n",
    "    spark_sum(\"idle_time\").alias(\"total_idle_time\"),\n",
    "    spark_sum(\"duration\").alias(\"total_ride_duration\")\n",
    ")\n",
    "\n",
    "# Calculate total time (idle + ride duration)\n",
    "taxi_stats = taxi_stats.withColumn(\"total_time\",\n",
    "                                   col(\"total_idle_time\") + col(\"total_ride_duration\"))\n",
    "\n",
    "# Calculate utilization rate\n",
    "utilization_df = taxi_stats.withColumn(\n",
    "    \"utilization_rate\",\n",
    "    col(\"total_ride_duration\") / col(\"total_time\")\n",
    ")\n",
    "\n",
    "utilization_df.show()\n",
    "\n",
    "taxi_copy.unpersist()"
   ]
  },
  {
   "cell_type": "markdown",
   "metadata": {
    "id": "KAG1UbBE5R1P"
   },
   "source": [
    "### Query 2\n",
    "The average time it takes for a taxi to find its next fare(trip) per destination borough"
   ]
  },
  {
   "cell_type": "code",
   "execution_count": 8,
   "metadata": {
    "colab": {
     "base_uri": "https://localhost:8080/"
    },
    "id": "K7jwl2aoiZKk",
    "outputId": "c108e39e-4048-4671-a393-ccf3cd345d67"
   },
   "outputs": [
    {
     "name": "stdout",
     "output_type": "stream",
     "text": [
      "Average waiting time in seconds per borough:\n",
      "+-------------+------------------+\n",
      "| borough_name|  avg_waiting_time|\n",
      "+-------------+------------------+\n",
      "|    Manhattan|  638.754217633492|\n",
      "|     Brooklyn|1333.2458882627877|\n",
      "|        Bronx| 1976.459002100424|\n",
      "|       Queens|2369.3274020908098|\n",
      "|Staten Island| 2674.345358556973|\n",
      "+-------------+------------------+\n",
      "\n"
     ]
    }
   ],
   "source": [
    "window_spec = Window.partitionBy(\"hack_license\").orderBy(\"pickup_ts\")\n",
    "\n",
    "# Get the next pickup time\n",
    "next_pick_up = taxi_copy.withColumn(\"next_pickup_ts\", lead(\"pickup_ts\").over(window_spec))\n",
    "\n",
    "# Calculate waiting time\n",
    "wait_time = next_pick_up.withColumn(\"waiting_time\", (next_pick_up[\"next_pickup_ts\"] - next_pick_up[\"dropoff_ts\"]))\n",
    "\n",
    "# Filter out null values, null boroughs, and waiting times > 4 hours\n",
    "wait_time = wait_time.na.drop(subset=[\"next_pickup_ts\"])\n",
    "wait_time = wait_time.filter(wait_time[\"dropoff_borough\"].isNotNull())\n",
    "wait_time = wait_time.filter(col(\"waiting_time\") <= 4 * 60 * 60)\n",
    "\n",
    "# Calculate average waiting time by dropoff borough\n",
    "result = wait_time.groupBy(\"dropoff_borough\").agg(avg(\"waiting_time\").alias(\"avg_waiting_time\"))\n",
    "\n",
    "# Create df from borough names\n",
    "borough_names_df = spark.createDataFrame([(code, name) for code, name in b_names.items()],\n",
    "                                         [\"dropoff_borough\", \"borough_name\"])\n",
    "query2_result = result.join(borough_names_df, on=\"dropoff_borough\", how=\"left\")\n",
    "query2_result = query2_result.select(\"borough_name\", \"avg_waiting_time\").orderBy(\"avg_waiting_time\")\n",
    "\n",
    "print(\"Average waiting time in seconds per borough:\")\n",
    "query2_result.show()"
   ]
  },
  {
   "cell_type": "markdown",
   "metadata": {
    "id": "ems5L6xW5R1P"
   },
   "source": [
    "### Query 3\n",
    "The number of trips that started and ended within the same borough"
   ]
  },
  {
   "cell_type": "code",
   "execution_count": 9,
   "metadata": {
    "colab": {
     "base_uri": "https://localhost:8080/"
    },
    "id": "5G0z3FoY5R1P",
    "outputId": "d9bd3951-9735-4b19-e77c-08a4753cd5ee"
   },
   "outputs": [
    {
     "name": "stdout",
     "output_type": "stream",
     "text": [
      "The number of trips that started and ended in the same borough per borough:\n",
      "+-------------+----------+\n",
      "| borough_name|trip_count|\n",
      "+-------------+----------+\n",
      "|    Manhattan|  12375437|\n",
      "|     Brooklyn|    188957|\n",
      "|Staten Island|       521|\n",
      "|       Queens|    179061|\n",
      "|        Bronx|      5761|\n",
      "+-------------+----------+\n",
      "\n"
     ]
    }
   ],
   "source": [
    "# Filter df to only include trips that start and end in same borough, group by pickup boroughs\n",
    "same_borough_trips_df = taxi_df.filter(col(\"pickup_borough\") == col(\"dropoff_borough\")).groupBy(\"pickup_borough\").agg(count(\"*\").alias(\"trip_count\"))\n",
    "\n",
    "# Put borough names and codes in new df to be used in next step\n",
    "borough_names_df = spark.createDataFrame([(code, name) for code, name in b_names.items()],\n",
    "                                        [\"borough_code\", \"borough_name\"])\n",
    "\n",
    "# Replace borough codes w borough names\n",
    "same_borough_trips_named = same_borough_trips_df.join(\n",
    "    borough_names_df,\n",
    "    same_borough_trips_df.pickup_borough == borough_names_df.borough_code,\n",
    "    \"left\"\n",
    ")\n",
    "\n",
    "# Show results'\n",
    "print(\"The number of trips that started and ended in the same borough per borough:\")\n",
    "same_borough_trips_named = same_borough_trips_named.select(\"borough_name\", \"trip_count\")\n",
    "same_borough_trips_named.show()"
   ]
  },
  {
   "cell_type": "markdown",
   "metadata": {
    "id": "v0_xMVVE5R1P"
   },
   "source": [
    "### Query 4\n",
    "The number of trips that started in one borough and ended in another one"
   ]
  },
  {
   "cell_type": "code",
   "execution_count": 10,
   "metadata": {
    "colab": {
     "base_uri": "https://localhost:8080/"
    },
    "id": "-9kcTosn5R1P",
    "outputId": "63c32182-67e1-4f35-daba-6f0315617b18"
   },
   "outputs": [
    {
     "name": "stdout",
     "output_type": "stream",
     "text": [
      "The number of trips that started and ended in the different boroughs per borough:\n",
      "+-------------------+--------------------+----------+\n",
      "|pickup_borough_name|dropoff_borough_name|trip_count|\n",
      "+-------------------+--------------------+----------+\n",
      "|          Manhattan|              Queens|    460647|\n",
      "|          Manhattan|            Brooklyn|    439578|\n",
      "|             Queens|           Manhattan|    402290|\n",
      "|           Brooklyn|           Manhattan|    118422|\n",
      "|             Queens|            Brooklyn|     81561|\n",
      "|          Manhattan|               Bronx|     50053|\n",
      "|           Brooklyn|              Queens|     17328|\n",
      "|             Queens|               Bronx|      9752|\n",
      "|              Bronx|           Manhattan|      2890|\n",
      "|          Manhattan|       Staten Island|      1924|\n",
      "|             Queens|       Staten Island|       619|\n",
      "|           Brooklyn|               Bronx|       498|\n",
      "|              Bronx|              Queens|       271|\n",
      "|           Brooklyn|       Staten Island|       128|\n",
      "|              Bronx|            Brooklyn|        80|\n",
      "|      Staten Island|           Manhattan|        41|\n",
      "|      Staten Island|            Brooklyn|         8|\n",
      "|      Staten Island|              Queens|         6|\n",
      "|              Bronx|       Staten Island|         2|\n",
      "+-------------------+--------------------+----------+\n",
      "\n"
     ]
    }
   ],
   "source": [
    "different_borough_trips_df = (taxi_df.filter(col(\"pickup_borough\") != col(\"dropoff_borough\")).groupBy(\"pickup_borough\", \"dropoff_borough\").agg(count(\"*\").alias(\"trip_count\")))\n",
    "\n",
    "# Create a separate aliased df for pickup and dropoff borough names\n",
    "borough_names_pickup = borough_names_df.alias(\"pickup\")\n",
    "borough_names_dropoff = borough_names_df.alias(\"dropoff\")\n",
    "\n",
    "# First join for pickup borough names\n",
    "pickup_joined = different_borough_trips_df.join(\n",
    "    borough_names_pickup,\n",
    "    different_borough_trips_df.pickup_borough == borough_names_pickup.borough_code,\n",
    "    \"left\"\n",
    ").withColumnRenamed(\"borough_name\", \"pickup_borough_name\")\n",
    "\n",
    "# Second join for dropoff borough names\n",
    "final_joined = pickup_joined.join(\n",
    "    borough_names_dropoff,\n",
    "    pickup_joined.dropoff_borough == borough_names_dropoff.borough_code,\n",
    "    \"left\"\n",
    ").withColumnRenamed(\"borough_name\", \"dropoff_borough_name\")\n",
    "\n",
    "# Show results\n",
    "print(\"The number of trips that started and ended in the different boroughs per borough:\")\n",
    "result = final_joined.select(\"pickup_borough_name\", \"dropoff_borough_name\", \"trip_count\")\n",
    "result.orderBy(col(\"trip_count\").desc()).show()"
   ]
  }
 ],
 "metadata": {
  "application/vnd.databricks.v1+notebook": {
   "dashboards": [],
   "language": "python",
   "notebookMetadata": {
    "pythonIndentUnit": 2
   },
   "notebookName": "Practice session - Dataframe",
   "notebookOrigID": 1061204080530756,
   "widgets": {}
  },
  "colab": {
   "provenance": []
  },
  "kernelspec": {
   "display_name": "Python 3 (ipykernel)",
   "language": "python",
   "name": "python3"
  },
  "language_info": {
   "codemirror_mode": {
    "name": "ipython",
    "version": 3
   },
   "file_extension": ".py",
   "mimetype": "text/x-python",
   "name": "python",
   "nbconvert_exporter": "python",
   "pygments_lexer": "ipython3",
   "version": "3.11.10"
  }
 },
 "nbformat": 4,
 "nbformat_minor": 4
}
