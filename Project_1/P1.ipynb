{
  "cells": [
    {
      "cell_type": "markdown",
      "metadata": {
        "id": "xUp_SCYi_V_2"
      },
      "source": [
        "# Big Data Management Project 1:\n",
        "## Analyzing New York City Taxi Data"
      ]
    },
    {
      "cell_type": "code",
      "execution_count": 1,
      "metadata": {
        "colab": {
          "base_uri": "https://localhost:8080/"
        },
        "id": "6VzGECop_V_4",
        "outputId": "37ea90e0-b82e-40cd-d583-4f933f0b3a35"
      },
      "outputs": [
        {
          "output_type": "stream",
          "name": "stdout",
          "text": [
            "Requirement already satisfied: shapely in /usr/local/lib/python3.11/dist-packages (2.0.7)\n",
            "Requirement already satisfied: numpy<3,>=1.14 in /usr/local/lib/python3.11/dist-packages (from shapely) (1.26.4)\n"
          ]
        }
      ],
      "source": [
        "!pip install shapely"
      ]
    },
    {
      "cell_type": "code",
      "execution_count": 2,
      "metadata": {
        "id": "9sTzBaRW_V_5"
      },
      "outputs": [],
      "source": [
        "from pyspark.sql import SparkSession\n",
        "from pyspark.sql.functions import udf, unix_timestamp, col, lag, avg, lead, sum, count, broadcast, lead, col, avg as spark_sum\n",
        "from pyspark.sql.types import IntegerType\n",
        "from pyspark.sql.window import Window\n",
        "\n",
        "import json\n",
        "\n",
        "from shapely.geometry import shape, Point"
      ]
    },
    {
      "cell_type": "code",
      "execution_count": 3,
      "metadata": {
        "id": "bcrU7Shu_V_5"
      },
      "outputs": [],
      "source": [
        "spark = (SparkSession.builder\n",
        "                    .appName('BDM_Project1')\n",
        "                    .enableHiveSupport()  # Enables Hive support, persistent Hive metastore\n",
        "                    .getOrCreate()\n",
        "        )"
      ]
    },
    {
      "cell_type": "markdown",
      "metadata": {
        "id": "Bqh6sEm4_V_6"
      },
      "source": [
        "### NYC Borough Data"
      ]
    },
    {
      "cell_type": "code",
      "execution_count": 4,
      "metadata": {
        "id": "wDiNH0RJ_V_6"
      },
      "outputs": [],
      "source": [
        "with open('input/nyc-boroughs.geojson') as f:\n",
        "    geo_data = json.load(f)\n",
        "\n",
        "# Broadcasting data to workers\n",
        "broadcast_geo_data = spark.sparkContext.broadcast(geo_data)\n",
        "\n",
        "# TODO: is using a dictionary fine? \"dataframe can be created out of it\"\n",
        "# Creating a dictionary of borough codes and polygons within the borough\n",
        "polygons = {}\n",
        "b_names = {} # borough names by code\n",
        "\n",
        "for feature in broadcast_geo_data.value['features']:\n",
        "\n",
        "    code = feature['properties']['boroughCode']\n",
        "    name = feature['properties']['borough']\n",
        "\n",
        "    if code not in polygons:\n",
        "        polygons[code] = []\n",
        "        b_names[code] = name\n",
        "\n",
        "    polygons[code].append(shape(feature['geometry']))\n",
        "\n",
        "# Sorting borough polygons by area\n",
        "for code in polygons:\n",
        "    polygons[code] = sorted(\n",
        "        polygons[code], key=lambda x: x.area, reverse=True\n",
        "    )\n",
        "\n",
        "# also sort boroughs by total area?\n",
        "#borough_total_areas = {code: sum(poly.area for poly in polys) for code, polys in polygons.items()}\n",
        "#sorted_boroughs = sorted(borough_total_areas.keys(), key=lambda x: borough_total_areas[x], reverse=True)\n",
        "#polygons = {code: polygons[code] for code in sorted_boroughs}\n"
      ]
    },
    {
      "cell_type": "code",
      "execution_count": 5,
      "metadata": {
        "id": "NSCMWTMf_V_7"
      },
      "outputs": [],
      "source": [
        "# UDF: longitude, latitude -> borough\n",
        "def get_borough(long, lat):\n",
        "    point = Point(long, lat)\n",
        "\n",
        "    for code, pols in polygons.items():\n",
        "        for polygon in pols:\n",
        "            if polygon.contains(point):\n",
        "                return code\n",
        "\n",
        "    return None\n",
        "\n",
        "get_borough_udf = udf(get_borough, IntegerType())"
      ]
    },
    {
      "cell_type": "markdown",
      "metadata": {
        "id": "--ksVyWW_V_7"
      },
      "source": [
        "### NYC Taxi Data"
      ]
    },
    {
      "cell_type": "code",
      "execution_count": 6,
      "metadata": {
        "colab": {
          "base_uri": "https://localhost:8080/"
        },
        "id": "LGBJq2sW_V_7",
        "outputId": "ab468324-1619-4a4a-b240-7a24a1158a6c"
      },
      "outputs": [
        {
          "output_type": "stream",
          "name": "stdout",
          "text": [
            "+--------------------------------+---------------+----------------+---------------+----------------+-----------------+----------------+----------+----------+--------+--------------+---------------+\n",
            "|hack_license                    |pickup_latitude|pickup_longitude|pickup_datetime|dropoff_latitude|dropoff_longitude|dropoff_datetime|pickup_ts |dropoff_ts|duration|pickup_borough|dropoff_borough|\n",
            "+--------------------------------+---------------+----------------+---------------+----------------+-----------------+----------------+----------+----------+--------+--------------+---------------+\n",
            "|BA96DE419E711691B9445D6A6307C170|40.757977      |-73.978165      |01-01-13 15:11 |40.751171       |-73.989838       |01-01-13 15:18  |1357053060|1357053480|420     |1             |1              |\n",
            "|9FD8F69F0804BDB5549F40E9DA1BE472|40.731781      |-74.006683      |06-01-13 00:18 |40.75066        |-73.994499       |06-01-13 00:22  |1357431480|1357431720|240     |1             |1              |\n",
            "|9FD8F69F0804BDB5549F40E9DA1BE472|40.73777       |-74.004707      |05-01-13 18:49 |40.726002       |-74.009834       |05-01-13 18:54  |1357411740|1357412040|300     |1             |1              |\n",
            "+--------------------------------+---------------+----------------+---------------+----------------+-----------------+----------------+----------+----------+--------+--------------+---------------+\n",
            "only showing top 3 rows\n",
            "\n"
          ]
        }
      ],
      "source": [
        "taxi_df = (spark.read\n",
        "             .option(\"sep\", \",\")\n",
        "             .option(\"header\", True)\n",
        "             .option(\"inferSchema\", True)\n",
        "             .csv(\"input/Sample NYC Data.csv\")\n",
        "            )\n",
        "\n",
        "# Selecting only necessary columns\n",
        "taxi_df = taxi_df.select(\n",
        "    \"hack_license\",\n",
        "    \"pickup_latitude\",\n",
        "    \"pickup_longitude\",\n",
        "    \"pickup_datetime\",\n",
        "    \"dropoff_latitude\",\n",
        "    \"dropoff_longitude\",\n",
        "    \"dropoff_datetime\"\n",
        ")\n",
        "\n",
        "# Converting datetime to unix timestamp (seconds)\n",
        "taxi_df = taxi_df.withColumn(\n",
        "    \"pickup_ts\", unix_timestamp(\"pickup_datetime\", \"dd-MM-yy HH:mm\")\n",
        ").withColumn(\n",
        "    \"dropoff_ts\", unix_timestamp(\"dropoff_datetime\", \"dd-MM-yy HH:mm\")\n",
        ")\n",
        "\n",
        "# Calculating ride duration (seconds)\n",
        "taxi_df = taxi_df.withColumn(\n",
        "    \"duration\", (taxi_df[\"dropoff_ts\"] - taxi_df[\"pickup_ts\"])\n",
        ")\n",
        "\n",
        "# Filtering out rides longer than 4h or with negative duration\n",
        "taxi_df = taxi_df.filter((taxi_df[\"duration\"] > 0) & (taxi_df[\"duration\"] <= 4 * 60 * 60))\n",
        "\n",
        "# Add pick up and drop off boroughs to taxi data\n",
        "taxi_df = taxi_df.withColumn(\n",
        "    \"pickup_borough\", get_borough_udf(\"pickup_longitude\", \"pickup_latitude\")\n",
        ").withColumn(\n",
        "    \"dropoff_borough\", get_borough_udf(\"dropoff_longitude\", \"dropoff_latitude\")\n",
        ")\n",
        "taxi_df.show(3, truncate=False)"
      ]
    },
    {
      "cell_type": "markdown",
      "metadata": {
        "id": "8F7ZYDLP_V_7"
      },
      "source": [
        "### Query 1\n",
        "Utilization: idle time per taxi"
      ]
    },
    {
      "cell_type": "code",
      "execution_count": 7,
      "metadata": {
        "colab": {
          "base_uri": "https://localhost:8080/"
        },
        "id": "RjF_6Krj_V_8",
        "outputId": "cd4d81cd-a073-4746-af17-a3963f457691"
      },
      "outputs": [
        {
          "output_type": "stream",
          "name": "stdout",
          "text": [
            "+--------------------+------------------+-------------------+------------------+--------------------+\n",
            "|        hack_license|   total_idle_time|total_ride_duration|        total_time|    utilization_rate|\n",
            "+--------------------+------------------+-------------------+------------------+--------------------+\n",
            "|001C8AAB90AEE49F3...|            4320.0|              720.0|            5040.0| 0.14285714285714285|\n",
            "|0025133AD810DBE80...|            2400.0|              900.0|            3300.0|  0.2727272727272727|\n",
            "|00447A6197DBB329F...|            3360.0|             1380.0|            4740.0|  0.2911392405063291|\n",
            "|006313464EC98A24B...|            1575.0|              528.0|            2103.0| 0.25106990014265335|\n",
            "|007439EEDB510EF82...|            3240.0|              180.0|            3420.0| 0.05263157894736842|\n",
            "|00927C48BA4C1B2B1...|            903.75|              690.0|           1593.75|  0.4329411764705882|\n",
            "|00AE05F56D451E89E...|            1850.0|              620.0|            2470.0| 0.25101214574898784|\n",
            "|00B442110FA2D04A1...| 762.8571428571429|  797.1428571428571|            1560.0|   0.510989010989011|\n",
            "|00BB5ECED533BF463...| 494.2857142857143|  577.1428571428571|1071.4285714285713|  0.5386666666666667|\n",
            "|00BF52E4A8E6DBB01...|             540.0|  626.6666666666666|1166.6666666666665|  0.5371428571428571|\n",
            "|00BFF9F028A7A9365...|1266.6666666666667|  653.3333333333334|            1920.0|  0.3402777777777778|\n",
            "|00D0B6CE0ADA00D70...|            1490.0|              320.0|            1810.0| 0.17679558011049723|\n",
            "|01060D63D29CE42C8...|            4200.0|              660.0|            4860.0| 0.13580246913580246|\n",
            "|011707FD64AD1EBEA...|            4110.0|              150.0|            4260.0|0.035211267605633804|\n",
            "|011EB4B6E7DE7B08C...|            8220.0|              540.0|            8760.0| 0.06164383561643835|\n",
            "|01202D837DD4454C7...|            4050.0|              330.0|            4380.0| 0.07534246575342465|\n",
            "|0124A558E529199A8...| 934.2857142857143|  534.2857142857143|1468.5714285714287|  0.3638132295719844|\n",
            "|013B64EE51129C462...| 796.6666666666666|  773.3333333333334|            1570.0| 0.49256900212314225|\n",
            "|014BB395ECEE67BEC...|             840.0|              540.0|            1380.0|   0.391304347826087|\n",
            "|015B18400858D89EE...|            2700.0|             1440.0|            4140.0| 0.34782608695652173|\n",
            "+--------------------+------------------+-------------------+------------------+--------------------+\n",
            "only showing top 20 rows\n",
            "\n"
          ]
        }
      ],
      "source": [
        "# Copy taxi_df dataframe\n",
        "taxi_copy = taxi_df.select(\"*\")\n",
        "\n",
        "# Ensure all trips of the same driver are together\n",
        "taxi_copy = taxi_copy.repartition(\"hack_license\")\n",
        "\n",
        "# Partition by driver and then order by pickup time with Window\n",
        "window_sp = Window.partitionBy(\"hack_license\").orderBy(\"pickup_ts\")\n",
        "\n",
        "# Compute previous dropoff time\n",
        "taxi_copy = taxi_copy.withColumn(\"prev_dropoff_ts\", lag(\"dropoff_ts\").over(window_sp))\n",
        "\n",
        "# Compute idle time\n",
        "taxi_copy = taxi_copy.withColumn(\"idle_time\", col(\"pickup_ts\") - col(\"prev_dropoff_ts\"))\n",
        "\n",
        "# Control that the idle time is not over 4h\n",
        "taxi_copy = taxi_copy.filter((col(\"idle_time\").isNotNull()) & (col(\"idle_time\") <= 14400))\n",
        "\n",
        "# Group by driver and calculate total idle time and total ride duration\n",
        "taxi_stats = taxi_copy.groupBy(\"hack_license\").agg(\n",
        "    spark_sum(\"idle_time\").alias(\"total_idle_time\"),\n",
        "    spark_sum(\"duration\").alias(\"total_ride_duration\")\n",
        ")\n",
        "\n",
        "# Calculate total time (idle + ride duration)\n",
        "taxi_stats = taxi_stats.withColumn(\"total_time\",\n",
        "                                   col(\"total_idle_time\") + col(\"total_ride_duration\"))\n",
        "\n",
        "# Calculate utilization rate\n",
        "utilization_df = taxi_stats.withColumn(\n",
        "    \"utilization_rate\",\n",
        "    col(\"total_ride_duration\") / col(\"total_time\")\n",
        ")\n",
        "\n",
        "utilization_df.show()"
      ]
    },
    {
      "cell_type": "markdown",
      "metadata": {
        "id": "tLAXFfFs_V_8"
      },
      "source": [
        "### Query 2\n",
        "The average time it takes for a taxi to find its next fare(trip) per destination borough"
      ]
    },
    {
      "cell_type": "code",
      "source": [
        "window_spec = Window.partitionBy(\"hack_license\").orderBy(\"pickup_ts\")\n",
        "\n",
        "# Get the next pickup time\n",
        "next_pick_up = taxi_copy.withColumn(\"next_pickup_ts\", lead(\"pickup_ts\").over(window_spec))\n",
        "\n",
        "# Calculate waiting time\n",
        "wait_time = next_pick_up.withColumn(\"waiting_time\", (next_pick_up[\"next_pickup_ts\"] - next_pick_up[\"dropoff_ts\"]))\n",
        "\n",
        "# Filter out null values, null boroughs, and waiting times > 4 hours\n",
        "wait_time = wait_time.na.drop(subset=[\"next_pickup_ts\"])\n",
        "wait_time = wait_time.filter(wait_time[\"dropoff_borough\"].isNotNull())\n",
        "wait_time = wait_time.filter(col(\"waiting_time\") <= 14400)\n",
        "\n",
        "# Calculate average waiting time by dropoff borough\n",
        "result = wait_time.groupBy(\"dropoff_borough\").agg(avg(\"waiting_time\").alias(\"avg_waiting_time\"))\n",
        "\n",
        "# Create df from borough names\n",
        "borough_names_df = spark.createDataFrame([(code, name) for code, name in b_names.items()],\n",
        "                                         [\"dropoff_borough\", \"borough_name\"])\n",
        "query2_result = result.join(borough_names_df, on=\"dropoff_borough\", how=\"left\")\n",
        "query2_result = query2_result.select(\"borough_name\", \"avg_waiting_time\").orderBy(\"avg_waiting_time\")\n",
        "\n",
        "query2_result.show()"
      ],
      "metadata": {
        "colab": {
          "base_uri": "https://localhost:8080/"
        },
        "id": "TPZKGstxErVY",
        "outputId": "1588d483-3d31-4d6c-f926-fd46097ff3f9"
      },
      "execution_count": 8,
      "outputs": [
        {
          "output_type": "stream",
          "name": "stdout",
          "text": [
            "+-------------+------------------+\n",
            "| borough_name|  avg_waiting_time|\n",
            "+-------------+------------------+\n",
            "|    Manhattan|   824.00276950772|\n",
            "|     Brooklyn|1843.5581518852894|\n",
            "|        Bronx|1966.6666666666667|\n",
            "|       Queens|2521.4008489993935|\n",
            "|Staten Island|            4125.0|\n",
            "+-------------+------------------+\n",
            "\n"
          ]
        }
      ]
    },
    {
      "cell_type": "markdown",
      "metadata": {
        "id": "yVyMzkRB_V_9"
      },
      "source": [
        "### Query 3\n",
        "The number of trips that started and ended within the same borough"
      ]
    },
    {
      "cell_type": "code",
      "source": [
        "taxi_df.show(3)"
      ],
      "metadata": {
        "colab": {
          "base_uri": "https://localhost:8080/"
        },
        "id": "PHNFrehHw1xd",
        "outputId": "8d151fb4-8e59-4de6-e52d-bbb4e2feeef0"
      },
      "execution_count": 9,
      "outputs": [
        {
          "output_type": "stream",
          "name": "stdout",
          "text": [
            "+--------------------+---------------+----------------+---------------+----------------+-----------------+----------------+----------+----------+--------+--------------+---------------+\n",
            "|        hack_license|pickup_latitude|pickup_longitude|pickup_datetime|dropoff_latitude|dropoff_longitude|dropoff_datetime| pickup_ts|dropoff_ts|duration|pickup_borough|dropoff_borough|\n",
            "+--------------------+---------------+----------------+---------------+----------------+-----------------+----------------+----------+----------+--------+--------------+---------------+\n",
            "|BA96DE419E711691B...|      40.757977|      -73.978165| 01-01-13 15:11|       40.751171|       -73.989838|  01-01-13 15:18|1357053060|1357053480|     420|             1|              1|\n",
            "|9FD8F69F0804BDB55...|      40.731781|      -74.006683| 06-01-13 00:18|        40.75066|       -73.994499|  06-01-13 00:22|1357431480|1357431720|     240|             1|              1|\n",
            "|9FD8F69F0804BDB55...|       40.73777|      -74.004707| 05-01-13 18:49|       40.726002|       -74.009834|  05-01-13 18:54|1357411740|1357412040|     300|             1|              1|\n",
            "+--------------------+---------------+----------------+---------------+----------------+-----------------+----------------+----------+----------+--------+--------------+---------------+\n",
            "only showing top 3 rows\n",
            "\n"
          ]
        }
      ]
    },
    {
      "cell_type": "code",
      "execution_count": null,
      "metadata": {
        "id": "isxCbjm4_V_9"
      },
      "outputs": [],
      "source": [
        "sumOfTripsBoroughSame = taxi_df.filter(col(\"pickup_borough\") == col(\"dropoff_borough\")).count()\n",
        "\n",
        "print(\"Total trips that start and end in same borough:\", sumOfTripsBoroughSame)\n",
        "\n",
        "same_borough_trips_df = taxi_df.filter(col(\"pickup_borough\") == col(\"dropoff_borough\")).groupBy(\"pickup_borough\").agg(count(\"hack_license\").alias(\"same_borough_trip_count\"))\n",
        "\n",
        "same_borough_trips_named = (same_borough_trips_df.join(borough_names_df, on=\"pickup_borough\", how=\"left\")\n",
        "                            .select(\"borough_name\", \"same_borough_trip_count\")).orderBy(col(\"same_borough_trip_count\").desc())\n",
        "\n",
        "same_borough_trips_named.show()"
      ]
    },
    {
      "cell_type": "markdown",
      "metadata": {
        "id": "gmd6GLeM_V_9"
      },
      "source": [
        "### Query 4\n",
        "The number of trips that started in one borough and ended in another one"
      ]
    },
    {
      "cell_type": "code",
      "execution_count": null,
      "metadata": {
        "id": "tNKAVmzr_V_9"
      },
      "outputs": [],
      "source": [
        "sumOfTripsBoroughDifferent = taxi_df.filter(col(\"pickup_borough\") != col(\"dropoff_borough\")).count()\n",
        "print(\"Total trips that start and end in different boroughs: \" + sumOfTripsBoroughDifferent)\n",
        "\n",
        "different_borough_trips_df = (taxi_df.filter(col(\"pickup_borough\") != col(\"dropoff_borough\"))\n",
        "                                      .groupBy(\"pickup_borough\", \"dropoff_borough\")\n",
        "                                      .agg(count(\"*\").alias(\"trip_count\")))\n",
        "\n",
        "pickup_borough_names_df = spark.createDataFrame([(code, name) for code, name in b_names.items()],\n",
        "                                                [\"pickup_borough\", \"pickup_borough_name\"])\n",
        "different_borough_trips_named = different_borough_trips_df.join(pickup_borough_names_df, on=\"pickup_borough\", how=\"left\")\n",
        "\n",
        "dropoff_borough_names_df = spark.createDataFrame([(code, name) for code, name in b_names.items()],\n",
        "                                                 [\"dropoff_borough\", \"dropoff_borough_name\"])\n",
        "different_borough_trips_named = different_borough_trips_named.join(dropoff_borough_names_df, on=\"dropoff_borough\", how=\"left\")\n",
        "\n",
        "different_borough_trips_named = different_borough_trips_named.select(\"pickup_borough_name\", \"dropoff_borough_name\", \"trip_count\")\n",
        "different_borough_trips_named.orderBy(col(\"trip_count\")).show()"
      ]
    }
  ],
  "metadata": {
    "application/vnd.databricks.v1+notebook": {
      "dashboards": [],
      "language": "python",
      "notebookMetadata": {
        "pythonIndentUnit": 2
      },
      "notebookName": "Practice session - Dataframe",
      "notebookOrigID": 1061204080530756,
      "widgets": {}
    },
    "kernelspec": {
      "display_name": "Python 3 (ipykernel)",
      "language": "python",
      "name": "python3"
    },
    "language_info": {
      "codemirror_mode": {
        "name": "ipython",
        "version": 3
      },
      "file_extension": ".py",
      "mimetype": "text/x-python",
      "name": "python",
      "nbconvert_exporter": "python",
      "pygments_lexer": "ipython3",
      "version": "3.11.10"
    },
    "colab": {
      "provenance": []
    }
  },
  "nbformat": 4,
  "nbformat_minor": 0
}
