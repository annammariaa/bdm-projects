{
 "cells": [
  {
   "cell_type": "markdown",
   "metadata": {
    "id": "E1w9AYcq5R1L"
   },
   "source": [
    "# Big Data Management Project 2:\n",
    "## DESB GRAND CHALLENGE 2015"
   ]
  },
  {
   "cell_type": "code",
   "execution_count": 1,
   "metadata": {},
   "outputs": [],
   "source": [
    "from pyspark.sql import SparkSession\n",
    "from pyspark.sql.functions import unix_timestamp, regexp_extract, col, count, udf\n",
    "from pyspark.sql.types import StructType, StructField, StringType, IntegerType, TimestampType, DoubleType, FloatType\n",
    "from pyspark.sql.window import Window\n",
    "\n",
    "import math\n",
    "import time"
   ]
  },
  {
   "cell_type": "code",
   "execution_count": 2,
   "metadata": {
    "id": "gLNNqDSZ5R1O"
   },
   "outputs": [],
   "source": [
    "spark = SparkSession.builder \\\n",
    "    .appName('BDM_Project2') \\\n",
    "    .getOrCreate()"
   ]
  },
  {
   "cell_type": "markdown",
   "metadata": {
    "id": "O_NyMxyS5R1O"
   },
   "source": [
    "### Query 0\n",
    "Data Cleansing and Setup"
   ]
  },
  {
   "cell_type": "code",
   "execution_count": 7,
   "metadata": {},
   "outputs": [
    {
     "name": "stdout",
     "output_type": "stream",
     "text": [
      "Execution time 0.761754035949707\n"
     ]
    }
   ],
   "source": [
    "start_time = time.time()  \n",
    "\n",
    "# Defining the schema for faster reading of data\n",
    "schema = StructType([\n",
    "    StructField(\"medallion\", StringType(), True),\n",
    "    StructField(\"hack_license\", StringType(), True),\n",
    "    StructField(\"pickup_datetime\", TimestampType(), True),\n",
    "    StructField(\"dropoff_datetime\", TimestampType(), True),\n",
    "    StructField(\"trip_time_in_secs\", IntegerType(), True),\n",
    "    StructField(\"trip_distance\", DoubleType(), True),\n",
    "    StructField(\"pickup_longitude\", DoubleType(), True),\n",
    "    StructField(\"pickup_latitude\", DoubleType(), True),\n",
    "    StructField(\"dropoff_longitude\", DoubleType(), True),\n",
    "    StructField(\"dropoff_latitude\", DoubleType(), True),\n",
    "    StructField(\"payment_type\", StringType(), True),\n",
    "    StructField(\"fare_amount\", DoubleType(), True),\n",
    "    StructField(\"surcharge\", DoubleType(), True),\n",
    "    StructField(\"mta_tax\", DoubleType(), True),\n",
    "    StructField(\"tip_amount\", DoubleType(), True),\n",
    "    StructField(\"tolls_amount\", DoubleType(), True)\n",
    "])\n",
    "\n",
    "# Creating a single dataframe of all the trip_data files\n",
    "taxi_df_og = (\n",
    "    spark.readStream\n",
    "    .option(\"maxFilesPerTrigger\", 1) \n",
    "    .option(\"header\", False)\n",
    "    .schema(schema)\n",
    "    .csv(\"input/\")\n",
    ")\n",
    "\n",
    "# Removing the trips with 0 passengers\n",
    "# Transforming the data \n",
    "taxi_df = taxi_df_og.filter(\n",
    "    (regexp_extract(col(\"medallion\"), r\"^[a-fA-F0-9]{32}$\", 0) != \"\") &\n",
    "    (regexp_extract(col(\"hack_license\"), r\"^[a-fA-F0-9]{32}$\", 0) != \"\") &\n",
    "    (col(\"pickup_datetime\").isNotNull()) &\n",
    "    (col(\"dropoff_datetime\").isNotNull()) &               \n",
    "    (col(\"trip_distance\") > 0) &                    \n",
    "    (col(\"fare_amount\") > 0) &\n",
    "    (col(\"tip_amount\") > 0)\n",
    ")\n",
    "\n",
    "# Convert timestamps to Unix format \n",
    "taxi_df = taxi_df.withColumn(\"pickup_ts\", unix_timestamp(\"pickup_datetime\")) \\\n",
    "    .withColumn(\"dropoff_ts\", unix_timestamp(\"dropoff_datetime\")) \\\n",
    "    .withColumn(\"duration\", col(\"dropoff_ts\") - col(\"pickup_ts\")) \\\n",
    "    .select(\"*\") \\\n",
    "    .dropna()  # Drop remaining null values\n",
    "\n",
    "# Start the streaming query with trigger(once=True) to process data once and stop\n",
    "query = (\n",
    "    taxi_df.writeStream\n",
    "    .outputMode(\"append\")\n",
    "    .format(\"parquet\")\n",
    "    .option(\"path\", \"output/preprocessed_data\")\n",
    "    .option(\"checkpointLocation\", \"output/checkpoint\")\n",
    "    .trigger(once=True)  \n",
    "    .start()\n",
    ")\n",
    "\n",
    "query.awaitTermination()\n",
    "\n",
    "print(\"Execution time\", time.time() - start_time)"
   ]
  },
  {
   "cell_type": "code",
   "execution_count": 8,
   "metadata": {},
   "outputs": [
    {
     "name": "stdout",
     "output_type": "stream",
     "text": [
      "+--------------------+--------------------+-------------------+-------------------+-----------------+-------------+----------------+---------------+-----------------+----------------+------------+-----------+---------+-------+----------+------------+----------+----------+--------+\n",
      "|           medallion|        hack_license|    pickup_datetime|   dropoff_datetime|trip_time_in_secs|trip_distance|pickup_longitude|pickup_latitude|dropoff_longitude|dropoff_latitude|payment_type|fare_amount|surcharge|mta_tax|tip_amount|tolls_amount| pickup_ts|dropoff_ts|duration|\n",
      "+--------------------+--------------------+-------------------+-------------------+-----------------+-------------+----------------+---------------+-----------------+----------------+------------+-----------+---------+-------+----------+------------+----------+----------+--------+\n",
      "|64187531006B3D8B3...|871C25EC0B8BF4BC8...|2013-08-01 17:47:36|2013-08-01 19:05:40|             4683|         18.0|      -74.005295|      40.750935|       -73.783058|        40.64394|         CRD|       52.0|      0.0|    0.5|      10.5|         0.0|1375379256|1375383940|    4684|\n",
      "|B94FC976AA80935B3...|398ACB3ED20F01C7B...|2013-08-01 19:00:45|2013-08-01 19:05:40|              294|          0.7|      -73.975937|      40.749283|       -73.966896|       40.754253|         CRD|        5.0|      1.0|    0.5|       1.3|         0.0|1375383645|1375383940|     295|\n",
      "|F3E2FC48C5A14BACE...|ECB6E18FA26FB71E5...|2013-08-01 18:57:33|2013-08-01 19:05:40|              486|          0.8|        -73.9814|      40.763718|       -73.980293|       40.754337|         CRD|        6.5|      1.0|    0.5|       1.6|         0.0|1375383453|1375383940|     487|\n",
      "|E79712363B74EB213...|85CBC591C44A5E763...|2013-08-01 18:58:11|2013-08-01 19:05:41|              449|          1.8|      -74.006783|      40.728691|       -74.003693|       40.750854|         CRD|        8.5|      1.0|    0.5|       2.0|         0.0|1375383491|1375383941|     450|\n",
      "|FBB7B6B4099AD7F45...|58057A0DC7DC000BA...|2013-08-01 18:59:35|2013-08-01 19:05:41|              366|          1.5|      -73.965157|      40.759403|       -73.980194|       40.749165|         CRD|        6.5|      1.0|    0.5|       1.6|         0.0|1375383575|1375383941|     366|\n",
      "+--------------------+--------------------+-------------------+-------------------+-----------------+-------------+----------------+---------------+-----------------+----------------+------------+-----------+---------+-------+----------+------------+----------+----------+--------+\n",
      "only showing top 5 rows\n",
      "\n"
     ]
    }
   ],
   "source": [
    "output_df = spark.read.parquet(\"output/preprocessed_data\")\n",
    "output_df.show(5) "
   ]
  },
  {
   "cell_type": "code",
   "execution_count": 12,
   "metadata": {},
   "outputs": [],
   "source": [
    "sample_df = output_df.limit(2800000) # around 1gb of data"
   ]
  },
  {
   "cell_type": "code",
   "execution_count": 13,
   "metadata": {},
   "outputs": [
    {
     "name": "stdout",
     "output_type": "stream",
     "text": [
      "Original count: 90288423\n",
      "Filtered count: 2800000\n",
      "Rows filtered out: 87488423\n"
     ]
    }
   ],
   "source": [
    "# Impact of transformations\n",
    "original_count = output_df.count()\n",
    "filtered_count = sample_df.count()\n",
    "filtered_out_count = original_count - filtered_count\n",
    "\n",
    "print(f\"Original count: {original_count}\") \n",
    "print(f\"Filtered count: {filtered_count}\")\n",
    "print(f\"Rows filtered out: {filtered_out_count}\")"
   ]
  },
  {
   "cell_type": "markdown",
   "metadata": {},
   "source": [
    "### Grid Cells for Query 1"
   ]
  },
  {
   "cell_type": "code",
   "execution_count": 11,
   "metadata": {},
   "outputs": [],
   "source": [
    "start_lat = 41.474937\n",
    "start_long = -74.913585\n",
    "cell_size = 0.044 # 500m to degrees for latitude (and longitude)\n",
    "\n",
    "def grid_cells_q1(point_long, point_lat):\n",
    "    \n",
    "    long = math.floor((point_long - start_long) / cell_size) + 1\n",
    "    lat = math.floor((start_lat - point_lat) / cell_size) + 1\n",
    "    \n",
    "    # Ensure the cell is within valid grid bounds (300x300)\n",
    "    if not (1 <= long <= 300 and 1 <= lat <= 300):\n",
    "        return None \n",
    "    \n",
    "    return float(f\"{long}.{lat}\") # Convert to X.X format"
   ]
  },
  {
   "cell_type": "code",
   "execution_count": 12,
   "metadata": {},
   "outputs": [
    {
     "name": "stdout",
     "output_type": "stream",
     "text": [
      "+--------------------------------+--------------------------------+-------------------+-------------------+---------------+-------------+----------------+---------------+-----------------+----------------+------------+-----------+---------+-------+----------+------------+----------+----------+--------+----------+--------+\n",
      "|medallion                       |hack_license                    |pickup_datetime    |dropoff_datetime   |passenger_count|trip_distance|pickup_longitude|pickup_latitude|dropoff_longitude|dropoff_latitude|payment_type|fare_amount|surcharge|mta_tax|tip_amount|tolls_amount|pickup_ts |dropoff_ts|duration|start_cell|end_cell|\n",
      "+--------------------------------+--------------------------------+-------------------+-------------------+---------------+-------------+----------------+---------------+-----------------+----------------+------------+-----------+---------+-------+----------+------------+----------+----------+--------+----------+--------+\n",
      "|319AE2555940BA65DB0749E1DD1FBA0B|BAC146F5AA74DE3040A5D53572EA663A|2013-01-01 00:00:00|2013-01-01 00:03:00|180            |0.39         |-73.990608      |40.734997      |-73.989487       |40.730324       |CRD         |4.0        |0.5      |0.5    |0.9       |0.0         |1356998400|1356998580|180     |21.17     |22.17   |\n",
      "|BC039E9B5DD28E4231D8FBAF1F61BDD3|520D1C08519CEBCC57E1CF01823C3041|2013-01-01 00:04:00|2013-01-01 00:06:00|120            |1.03         |-73.964676      |40.764423      |-73.953407       |40.772678       |CSH         |5.0        |0.5      |0.5    |0.0       |0.0         |1356998640|1356998760|120     |22.17     |22.16   |\n",
      "|586E42CBE3010646C06A30F6E1220601|83F57D0B7B416F51411F3F4A43D9F8BB|2013-01-01 00:03:11|2013-01-01 00:07:41|270            |1.5          |-73.959038      |40.78059       |-73.951042       |40.798401       |CSH         |6.5        |0.5      |0.5    |0.0       |0.0         |1356998591|1356998861|270     |22.16     |22.16   |\n",
      "|1BBFD1BAE4C30704719E3525D5F00656|D4E3C5EE4A78A861C50ED1FC9476D4B4|2013-01-01 00:04:00|2013-01-01 00:08:00|240            |1.15         |-73.991043      |40.750214      |-74.003372       |40.742676       |CSH         |5.5        |0.5      |0.5    |0.0       |0.0         |1356998640|1356998880|240     |21.17     |21.17   |\n",
      "|A4705F67998839226E50F0C624525643|4B8CEF035E10D0A0F575F8EBE402E1BA|2013-01-01 00:03:00|2013-01-01 00:08:00|300            |1.14         |-73.992378      |40.724422      |-73.987389       |40.737453       |CRD         |6.5        |0.5      |0.5    |1.75      |0.0         |1356998580|1356998880|300     |21.18     |22.17   |\n",
      "+--------------------------------+--------------------------------+-------------------+-------------------+---------------+-------------+----------------+---------------+-----------------+----------------+------------+-----------+---------+-------+----------+------------+----------+----------+--------+----------+--------+\n",
      "only showing top 5 rows\n",
      "\n"
     ]
    }
   ],
   "source": [
    "get_grid = udf(grid_cells_q1, FloatType())\n",
    "\n",
    "taxi_df_q1 = taxi_df.withColumn(\"start_cell\", get_grid(taxi_df.pickup_longitude, taxi_df.pickup_latitude))\\\n",
    "    .withColumn(\"end_cell\", get_grid(taxi_df.dropoff_longitude, taxi_df.dropoff_latitude))\\\n",
    "    .filter(\n",
    "        col(\"start_cell\").isNotNull() & col(\"end_cell\").isNotNull()  # Filter out trips outside of the grid\n",
    "    )\n",
    "\n",
    "taxi_df_q1.show(5, truncate=False)"
   ]
  },
  {
   "cell_type": "markdown",
   "metadata": {
    "id": "vIv-IUsW5R1O"
   },
   "source": [
    "### Query 1\n",
    "Frequent Routes"
   ]
  },
  {
   "cell_type": "code",
   "execution_count": null,
   "metadata": {
    "colab": {
     "base_uri": "https://localhost:8080/"
    },
    "id": "U31yCwN_5R1P",
    "outputId": "d7cdaaee-fb1e-4347-aef0-55818fbb2b7d"
   },
   "outputs": [],
   "source": []
  },
  {
   "cell_type": "markdown",
   "metadata": {},
   "source": [
    "### Grid Cells for Query 2"
   ]
  },
  {
   "cell_type": "code",
   "execution_count": 14,
   "metadata": {},
   "outputs": [],
   "source": [
    "start_lat = 41.474937\n",
    "start_long = -74.913585\n",
    "cell_size = 0.022 # 250m to degrees for latitude (and longitude)\n",
    "\n",
    "def grid_cells_q2(point_long, point_lat):\n",
    "    \n",
    "    long = math.floor((point_long - start_long) / cell_size) + 1\n",
    "    lat = math.floor((start_lat - point_lat) / cell_size) + 1\n",
    "    \n",
    "    # Ensure the cell is within valid grid bounds (600x600)\n",
    "    if not (1 <= long <= 600 and 1 <= lat <= 600):\n",
    "        return None \n",
    "    \n",
    "    return float(f\"{long}.{lat}\") # Convert to X.X format"
   ]
  },
  {
   "cell_type": "code",
   "execution_count": 15,
   "metadata": {},
   "outputs": [
    {
     "name": "stdout",
     "output_type": "stream",
     "text": [
      "+--------------------------------+--------------------------------+-------------------+-------------------+---------------+-------------+----------------+---------------+-----------------+----------------+------------+-----------+---------+-------+----------+------------+----------+----------+--------+----------+--------+\n",
      "|medallion                       |hack_license                    |pickup_datetime    |dropoff_datetime   |passenger_count|trip_distance|pickup_longitude|pickup_latitude|dropoff_longitude|dropoff_latitude|payment_type|fare_amount|surcharge|mta_tax|tip_amount|tolls_amount|pickup_ts |dropoff_ts|duration|start_cell|end_cell|\n",
      "+--------------------------------+--------------------------------+-------------------+-------------------+---------------+-------------+----------------+---------------+-----------------+----------------+------------+-----------+---------+-------+----------+------------+----------+----------+--------+----------+--------+\n",
      "|319AE2555940BA65DB0749E1DD1FBA0B|BAC146F5AA74DE3040A5D53572EA663A|2013-01-01 00:00:00|2013-01-01 00:03:00|180            |0.39         |-73.990608      |40.734997      |-73.989487       |40.730324       |CRD         |4.0        |0.5      |0.5    |0.9       |0.0         |1356998400|1356998580|180     |42.34     |43.34   |\n",
      "|BC039E9B5DD28E4231D8FBAF1F61BDD3|520D1C08519CEBCC57E1CF01823C3041|2013-01-01 00:04:00|2013-01-01 00:06:00|120            |1.03         |-73.964676      |40.764423      |-73.953407       |40.772678       |CSH         |5.0        |0.5      |0.5    |0.0       |0.0         |1356998640|1356998760|120     |44.33     |44.32   |\n",
      "|586E42CBE3010646C06A30F6E1220601|83F57D0B7B416F51411F3F4A43D9F8BB|2013-01-01 00:03:11|2013-01-01 00:07:41|270            |1.5          |-73.959038      |40.78059       |-73.951042       |40.798401       |CSH         |6.5        |0.5      |0.5    |0.0       |0.0         |1356998591|1356998861|270     |44.32     |44.31   |\n",
      "|1BBFD1BAE4C30704719E3525D5F00656|D4E3C5EE4A78A861C50ED1FC9476D4B4|2013-01-01 00:04:00|2013-01-01 00:08:00|240            |1.15         |-73.991043      |40.750214      |-74.003372       |40.742676       |CSH         |5.5        |0.5      |0.5    |0.0       |0.0         |1356998640|1356998880|240     |42.33     |42.34   |\n",
      "|A4705F67998839226E50F0C624525643|4B8CEF035E10D0A0F575F8EBE402E1BA|2013-01-01 00:03:00|2013-01-01 00:08:00|300            |1.14         |-73.992378      |40.724422      |-73.987389       |40.737453       |CRD         |6.5        |0.5      |0.5    |1.75      |0.0         |1356998580|1356998880|300     |42.35     |43.34   |\n",
      "+--------------------------------+--------------------------------+-------------------+-------------------+---------------+-------------+----------------+---------------+-----------------+----------------+------------+-----------+---------+-------+----------+------------+----------+----------+--------+----------+--------+\n",
      "only showing top 5 rows\n",
      "\n"
     ]
    }
   ],
   "source": [
    "get_grid2 = udf(grid_cells_q2, FloatType())\n",
    "\n",
    "taxi_df_q2 = taxi_df.withColumn(\"start_cell\", get_grid2(taxi_df.pickup_longitude, taxi_df.pickup_latitude))\\\n",
    "    .withColumn(\"end_cell\", get_grid2(taxi_df.dropoff_longitude, taxi_df.dropoff_latitude))\\\n",
    "    .filter(\n",
    "        col(\"start_cell\").isNotNull() & col(\"end_cell\").isNotNull()  # Filter out trips outside of the grid\n",
    "    )\n",
    "\n",
    "taxi_df_q2.show(5, truncate=False)"
   ]
  },
  {
   "cell_type": "markdown",
   "metadata": {
    "id": "KAG1UbBE5R1P"
   },
   "source": [
    "### Query 2\n",
    "Profitable Areas"
   ]
  },
  {
   "cell_type": "code",
   "execution_count": null,
   "metadata": {
    "colab": {
     "base_uri": "https://localhost:8080/"
    },
    "id": "K7jwl2aoiZKk",
    "outputId": "c108e39e-4048-4671-a393-ccf3cd345d67"
   },
   "outputs": [],
   "source": []
  }
 ],
 "metadata": {
  "application/vnd.databricks.v1+notebook": {
   "dashboards": [],
   "language": "python",
   "notebookMetadata": {
    "pythonIndentUnit": 2
   },
   "notebookName": "Practice session - Dataframe",
   "notebookOrigID": 1061204080530756,
   "widgets": {}
  },
  "colab": {
   "provenance": []
  },
  "kernelspec": {
   "display_name": "Python 3 (ipykernel)",
   "language": "python",
   "name": "python3"
  },
  "language_info": {
   "codemirror_mode": {
    "name": "ipython",
    "version": 3
   },
   "file_extension": ".py",
   "mimetype": "text/x-python",
   "name": "python",
   "nbconvert_exporter": "python",
   "pygments_lexer": "ipython3",
   "version": "3.11.10"
  }
 },
 "nbformat": 4,
 "nbformat_minor": 4
}
