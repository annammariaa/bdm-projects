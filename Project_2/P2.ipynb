{
 "cells": [
  {
   "cell_type": "markdown",
   "metadata": {
    "id": "E1w9AYcq5R1L"
   },
   "source": [
    "# Big Data Management Project 2:\n",
    "## DESB GRAND CHALLENGE 2015"
   ]
  },
  {
   "cell_type": "code",
   "execution_count": 1,
   "metadata": {},
   "outputs": [],
   "source": [
    "from pyspark.sql import SparkSession\n",
    "from pyspark.sql.functions import unix_timestamp, regexp_extract, col, count\n",
    "from pyspark.sql.types import StructType, StructField, StringType, IntegerType, TimestampType, DoubleType, FloatType"
   ]
  },
  {
   "cell_type": "code",
   "execution_count": 2,
   "metadata": {
    "id": "gLNNqDSZ5R1O"
   },
   "outputs": [],
   "source": [
    "spark = (SparkSession.builder\n",
    "                    .appName('BDM_Project2')\n",
    "                    .enableHiveSupport()\n",
    "                    .getOrCreate()\n",
    "        )"
   ]
  },
  {
   "cell_type": "markdown",
   "metadata": {
    "id": "O_NyMxyS5R1O"
   },
   "source": [
    "### Query 0\n",
    "Data Cleansing and Setup"
   ]
  },
  {
   "cell_type": "code",
   "execution_count": 4,
   "metadata": {},
   "outputs": [
    {
     "name": "stdout",
     "output_type": "stream",
     "text": [
      "Small count: 5411459\n"
     ]
    }
   ],
   "source": [
    "# Defining the schema for faster reading of data\n",
    "schema = StructType([\n",
    "    StructField(\"medallion\", StringType(), True),\n",
    "    StructField(\"hack_license\", StringType(), True),\n",
    "    StructField(\"pickup_datetime\", TimestampType(), True),\n",
    "    StructField(\"dropoff_datetime\", TimestampType(), True),\n",
    "    StructField(\"trip_time_in_secs\", IntegerType(), True),\n",
    "    StructField(\"trip_distance\", DoubleType(), True),\n",
    "    StructField(\"pickup_longitude\", DoubleType(), True),\n",
    "    StructField(\"pickup_latitude\", DoubleType(), True),\n",
    "    StructField(\"dropoff_longitude\", DoubleType(), True),\n",
    "    StructField(\"dropoff_latitude\", DoubleType(), True),\n",
    "    StructField(\"payment_type\", StringType(), True),\n",
    "    StructField(\"fare_amount\", DoubleType(), True),\n",
    "    StructField(\"surcharge\", DoubleType(), True),\n",
    "    StructField(\"mta_tax\", DoubleType(), True),\n",
    "    StructField(\"tip_amount\", DoubleType(), True),\n",
    "    StructField(\"tolls_amount\", DoubleType(), True)\n",
    "])\n",
    "\n",
    "# Creating a single dataframe of all the trip_data files\n",
    "taxi_df_og = (\n",
    "    spark.read\n",
    "    .option(\"header\", False)\n",
    "    .schema(schema)\n",
    "    .csv(\"input/sorted_data.csv\")\n",
    ")\n",
    "\n",
    "# Extracting ~1GB of data\n",
    "taxi_df_small = taxi_df_og.sample(fraction=1/32, seed=42)  # 1GB out of 32GB (zipped 12GB, unzipped 32GB)\n",
    "original_count = taxi_df_small.count()\n",
    "print(f\"Number of rows in the 1GB dataset: {original_count}\")"
   ]
  },
  {
   "cell_type": "code",
   "execution_count": 5,
   "metadata": {
    "colab": {
     "base_uri": "https://localhost:8080/"
    },
    "id": "OYAFRgWI5R1O",
    "outputId": "cc41f6c7-b5d7-4ad4-9050-8ac6ca454008"
   },
   "outputs": [
    {
     "name": "stdout",
     "output_type": "stream",
     "text": [
      "+--------------------------------+--------------------------------+-------------------+-------------------+---------------+-------------+----------------+---------------+-----------------+----------------+------------+-----------+---------+-------+----------+------------+----------+----------+--------+\n",
      "|medallion                       |hack_license                    |pickup_datetime    |dropoff_datetime   |passenger_count|trip_distance|pickup_longitude|pickup_latitude|dropoff_longitude|dropoff_latitude|payment_type|fare_amount|surcharge|mta_tax|tip_amount|tolls_amount|pickup_ts |dropoff_ts|duration|\n",
      "+--------------------------------+--------------------------------+-------------------+-------------------+---------------+-------------+----------------+---------------+-----------------+----------------+------------+-----------+---------+-------+----------+------------+----------+----------+--------+\n",
      "|319AE2555940BA65DB0749E1DD1FBA0B|BAC146F5AA74DE3040A5D53572EA663A|2013-01-01 00:00:00|2013-01-01 00:03:00|180            |0.39         |-73.990608      |40.734997      |-73.989487       |40.730324       |CRD         |4.0        |0.5      |0.5    |0.9       |0.0         |1356998400|1356998580|180     |\n",
      "|BC039E9B5DD28E4231D8FBAF1F61BDD3|520D1C08519CEBCC57E1CF01823C3041|2013-01-01 00:04:00|2013-01-01 00:06:00|120            |1.03         |-73.964676      |40.764423      |-73.953407       |40.772678       |CSH         |5.0        |0.5      |0.5    |0.0       |0.0         |1356998640|1356998760|120     |\n",
      "|586E42CBE3010646C06A30F6E1220601|83F57D0B7B416F51411F3F4A43D9F8BB|2013-01-01 00:03:11|2013-01-01 00:07:41|270            |1.5          |-73.959038      |40.78059       |-73.951042       |40.798401       |CSH         |6.5        |0.5      |0.5    |0.0       |0.0         |1356998591|1356998861|270     |\n",
      "|1BBFD1BAE4C30704719E3525D5F00656|D4E3C5EE4A78A861C50ED1FC9476D4B4|2013-01-01 00:04:00|2013-01-01 00:08:00|240            |1.15         |-73.991043      |40.750214      |-74.003372       |40.742676       |CSH         |5.5        |0.5      |0.5    |0.0       |0.0         |1356998640|1356998880|240     |\n",
      "|A4705F67998839226E50F0C624525643|4B8CEF035E10D0A0F575F8EBE402E1BA|2013-01-01 00:03:00|2013-01-01 00:08:00|300            |1.14         |-73.992378      |40.724422      |-73.987389       |40.737453       |CRD         |6.5        |0.5      |0.5    |1.75      |0.0         |1356998580|1356998880|300     |\n",
      "+--------------------------------+--------------------------------+-------------------+-------------------+---------------+-------------+----------------+---------------+-----------------+----------------+------------+-----------+---------+-------+----------+------------+----------+----------+--------+\n",
      "only showing top 5 rows\n",
      "\n"
     ]
    }
   ],
   "source": [
    "# Transforming the data \n",
    "taxi_df = taxi_df_small.filter(\n",
    "    (regexp_extract(col(\"medallion\"), r\"^[a-fA-F0-9]{32}$\", 0) != \"\") &\n",
    "    (regexp_extract(col(\"hack_license\"), r\"^[a-fA-F0-9]{32}$\", 0) != \"\") &\n",
    "    (col(\"pickup_datetime\").isNotNull()) &\n",
    "    (col(\"dropoff_datetime\").isNotNull()) &\n",
    "    (col(\"trip_time_in_secs\") > 0) &                 \n",
    "    (col(\"trip_distance\") > 0) &                    \n",
    "    (col(\"fare_amount\") > 0) &\n",
    "    (col(\"tip_amount\") >= 0)\n",
    ")\n",
    "\n",
    "# Convert timestamps to Unix format \n",
    "taxi_df = taxi_df.withColumns({\n",
    "    \"pickup_ts\": unix_timestamp(\"pickup_datetime\"),\n",
    "    \"dropoff_ts\": unix_timestamp(\"dropoff_datetime\")\n",
    "}).withColumn(\n",
    "    \"duration\", col(\"dropoff_ts\") - col(\"pickup_ts\")\n",
    ").filter(\n",
    "    (col(\"duration\") > 0) & (col(\"duration\") <= 4 * 60 * 60) \n",
    ").select(\n",
    "    \"*\"\n",
    ").dropna()  # Drop remaining null values\n",
    "\n",
    "taxi_df.show(5, truncate=False)"
   ]
  },
  {
   "cell_type": "code",
   "execution_count": null,
   "metadata": {},
   "outputs": [],
   "source": [
    "# Impact of transformations\n",
    "filtered_count = taxi_df.count()\n",
    "filtered_out_count = original_count - filtered_count\n",
    "\n",
    "print(f\"Original count: {original_count}\") \n",
    "print(f\"Filtered count: {filtered_count}\")\n",
    "print(f\"Rows filtered out: {filtered_out_count}\")"
   ]
  },
  {
   "cell_type": "markdown",
   "metadata": {
    "id": "vIv-IUsW5R1O"
   },
   "source": [
    "### Query 1\n",
    "Frequent Routes"
   ]
  },
  {
   "cell_type": "code",
   "execution_count": null,
   "metadata": {
    "colab": {
     "base_uri": "https://localhost:8080/"
    },
    "id": "U31yCwN_5R1P",
    "outputId": "d7cdaaee-fb1e-4347-aef0-55818fbb2b7d"
   },
   "outputs": [],
   "source": []
  },
  {
   "cell_type": "markdown",
   "metadata": {
    "id": "KAG1UbBE5R1P"
   },
   "source": [
    "### Query 2\n",
    "Profitable Areas"
   ]
  },
  {
   "cell_type": "code",
   "execution_count": null,
   "metadata": {
    "colab": {
     "base_uri": "https://localhost:8080/"
    },
    "id": "K7jwl2aoiZKk",
    "outputId": "c108e39e-4048-4671-a393-ccf3cd345d67"
   },
   "outputs": [],
   "source": []
  }
 ],
 "metadata": {
  "application/vnd.databricks.v1+notebook": {
   "dashboards": [],
   "language": "python",
   "notebookMetadata": {
    "pythonIndentUnit": 2
   },
   "notebookName": "Practice session - Dataframe",
   "notebookOrigID": 1061204080530756,
   "widgets": {}
  },
  "colab": {
   "provenance": []
  },
  "kernelspec": {
   "display_name": "Python 3 (ipykernel)",
   "language": "python",
   "name": "python3"
  },
  "language_info": {
   "codemirror_mode": {
    "name": "ipython",
    "version": 3
   },
   "file_extension": ".py",
   "mimetype": "text/x-python",
   "name": "python",
   "nbconvert_exporter": "python",
   "pygments_lexer": "ipython3",
   "version": "3.11.10"
  }
 },
 "nbformat": 4,
 "nbformat_minor": 4
}