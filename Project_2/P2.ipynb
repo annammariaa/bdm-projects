{
 "cells": [
  {
   "cell_type": "markdown",
   "metadata": {
    "id": "E1w9AYcq5R1L"
   },
   "source": [
    "# Big Data Management Project 2:\n",
    "## DESB GRAND CHALLENGE 2015"
   ]
  },
  {
   "cell_type": "code",
   "execution_count": 22,
   "metadata": {},
   "outputs": [],
   "source": [
    "from pyspark.sql import SparkSession\n",
    "from pyspark.sql.functions import unix_timestamp, regexp_extract, col, count\n",
    "from pyspark.sql.types import StructType, StructField, StringType, IntegerType, TimestampType, DoubleType, FloatType"
   ]
  },
  {
   "cell_type": "code",
   "execution_count": 23,
   "metadata": {
    "id": "gLNNqDSZ5R1O"
   },
   "outputs": [],
   "source": [
    "spark = (SparkSession.builder\n",
    "                    .appName('BDM_Project2')\n",
    "                    .enableHiveSupport()\n",
    "                    .getOrCreate()\n",
    "        )"
   ]
  },
  {
   "cell_type": "markdown",
   "metadata": {
    "id": "O_NyMxyS5R1O"
   },
   "source": [
    "### Query 0\n",
    "Data Cleansing and Setup"
   ]
  },
  {
   "cell_type": "code",
   "execution_count": 25,
   "metadata": {
    "colab": {
     "base_uri": "https://localhost:8080/"
    },
    "id": "OYAFRgWI5R1O",
    "outputId": "cc41f6c7-b5d7-4ad4-9050-8ac6ca454008"
   },
   "outputs": [
    {
     "name": "stdout",
     "output_type": "stream",
     "text": [
      "+--------------------------------+--------------------------------+-------------------+-------------------+---------------+-------------+----------------+---------------+-----------------+----------------+------------+-----------+---------+-------+----------+------------+----------+----------+--------+\n",
      "|medallion                       |hack_license                    |pickup_datetime    |dropoff_datetime   |passenger_count|trip_distance|pickup_longitude|pickup_latitude|dropoff_longitude|dropoff_latitude|payment_type|fare_amount|surcharge|mta_tax|tip_amount|tolls_amount|pickup_ts |dropoff_ts|duration|\n",
      "+--------------------------------+--------------------------------+-------------------+-------------------+---------------+-------------+----------------+---------------+-----------------+----------------+------------+-----------+---------+-------+----------+------------+----------+----------+--------+\n",
      "|FD39403FDE46B6C753DDD6518A4365D7|2B36D07A27BB35D7DF7170C83EEAA196|2013-01-01 00:01:00|2013-01-01 00:02:00|60             |0.34         |-74.003197      |40.708313      |-74.005608       |40.706551       |CRD         |3.5        |0.5      |0.5    |0.8       |0.0         |1356998460|1356998520|60      |\n",
      "|08E54F4C460720DDE43460E354486FBC|33276CA24A915CBD668AF96873D07883|2013-01-01 00:00:00|2013-01-01 00:02:44|163            |0.5          |-73.999878      |40.743343      |-74.003708       |40.74828        |CRD         |4.0        |0.5      |0.5    |1.0       |0.0         |1356998400|1356998564|164     |\n",
      "|319AE2555940BA65DB0749E1DD1FBA0B|BAC146F5AA74DE3040A5D53572EA663A|2013-01-01 00:00:00|2013-01-01 00:03:00|180            |0.39         |-73.990608      |40.734997      |-73.989487       |40.730324       |CRD         |4.0        |0.5      |0.5    |0.9       |0.0         |1356998400|1356998580|180     |\n",
      "|DFBFA82ECA8F7059B89C3E8B93DAA377|CF8604E72D83840FBA1978C2D2FC9CDB|2013-01-01 00:02:00|2013-01-01 00:03:00|60             |0.39         |-73.981544      |40.781475      |-73.979439       |40.784386       |CRD         |3.0        |0.5      |0.5    |0.7       |0.0         |1356998520|1356998580|60      |\n",
      "|79E7DAB478510728043D760E44F8196B|922EFBE2E81AEDD70E4B212EE9AABC78|2013-01-01 00:00:55|2013-01-01 00:03:21|145            |0.8          |-73.962646      |40.767467      |-73.954063       |40.776943       |CRD         |4.5        |0.5      |0.5    |1.5       |0.0         |1356998455|1356998601|146     |\n",
      "+--------------------------------+--------------------------------+-------------------+-------------------+---------------+-------------+----------------+---------------+-----------------+----------------+------------+-----------+---------+-------+----------+------------+----------+----------+--------+\n",
      "only showing top 5 rows\n",
      "\n",
      "Execution time 0.7025043964385986\n",
      "Original count: 173185090\n",
      "Filtered count: 90238266\n",
      "Rows filtered out: 82946824\n"
     ]
    }
   ],
   "source": [
    "# Defining the schema for faster reading of data\n",
    "schema = StructType([\n",
    "    StructField(\"medallion\", StringType(), True),\n",
    "    StructField(\"hack_license\", StringType(), True),\n",
    "    StructField(\"pickup_datetime\", TimestampType(), True),\n",
    "    StructField(\"dropoff_datetime\", TimestampType(), True),\n",
    "    StructField(\"passenger_count\", IntegerType(), True),\n",
    "    StructField(\"trip_distance\", DoubleType(), True),\n",
    "    StructField(\"pickup_longitude\", DoubleType(), True),\n",
    "    StructField(\"pickup_latitude\", DoubleType(), True),\n",
    "    StructField(\"dropoff_longitude\", DoubleType(), True),\n",
    "    StructField(\"dropoff_latitude\", DoubleType(), True),\n",
    "    StructField(\"payment_type\", StringType(), True),\n",
    "    StructField(\"fare_amount\", DoubleType(), True),\n",
    "    StructField(\"surcharge\", DoubleType(), True),\n",
    "    StructField(\"mta_tax\", DoubleType(), True),\n",
    "    StructField(\"tip_amount\", DoubleType(), True),\n",
    "    StructField(\"tolls_amount\", DoubleType(), True)\n",
    "])\n",
    "\n",
    "# Creating a single dataframe of all the trip_data files\n",
    "taxi_df_og = (\n",
    "    spark.read\n",
    "    .option(\"header\", True)\n",
    "    .schema(schema)\n",
    "    .csv(\"input/sorted_data.csv\")\n",
    ")\n",
    "\n",
    "# Removing the trips with 0 passengers\n",
    "# Transforming the data \n",
    "taxi_df = taxi_df_og.filter(\n",
    "    (regexp_extract(col(\"medallion\"), r\"^[a-fA-F0-9]{32}$\", 0) != \"\") &\n",
    "    (regexp_extract(col(\"hack_license\"), r\"^[a-fA-F0-9]{32}$\", 0) != \"\") &\n",
    "    (col(\"pickup_datetime\").isNotNull()) &\n",
    "    (col(\"dropoff_datetime\").isNotNull()) &\n",
    "    (col(\"passenger_count\") > 0) &                 \n",
    "    (col(\"trip_distance\") > 0) &                    \n",
    "    (col(\"fare_amount\") > 0) &\n",
    "    (col(\"tip_amount\") > 0)\n",
    ")\n",
    "\n",
    "# Convert timestamps to Unix format \n",
    "taxi_df = taxi_df.withColumns({\n",
    "    \"pickup_ts\": unix_timestamp(\"pickup_datetime\"),\n",
    "    \"dropoff_ts\": unix_timestamp(\"dropoff_datetime\")\n",
    "}).withColumn(\n",
    "    \"duration\", col(\"dropoff_ts\") - col(\"pickup_ts\")\n",
    ").filter(\n",
    "    (col(\"duration\") > 0) & (col(\"duration\") <= 4 * 60 * 60) \n",
    ").select(\n",
    "    \"*\"\n",
    ").dropna()  # Drop remaining null values\n",
    "\n",
    "taxi_df.show(5, truncate=False)\n",
    "\n",
    "#optional\n",
    "original_count = taxi_df_og.count()\n",
    "filtered_count = taxi_df.count()\n",
    "filtered_out_count = original_count - filtered_count\n",
    "\n",
    "print(f\"Original count: {original_count}\") \n",
    "print(f\"Filtered count: {filtered_count}\")\n",
    "print(f\"Rows filtered out: {filtered_out_count}\")"
   ]
  },
  {
   "cell_type": "code",
   "execution_count": 26,
   "metadata": {},
   "outputs": [
    {
     "name": "stdout",
     "output_type": "stream",
     "text": [
      "Small count: 7516760\n"
     ]
    }
   ],
   "source": [
    "taxi_df_small = taxi_df.sample(fraction=0.0833)  # 1GB out of 12GB\n",
    "small_count = taxi_df_small.count()\n",
    "print(f\"Small count: {small_count}\")"
   ]
  },
  {
   "cell_type": "markdown",
   "metadata": {
    "id": "vIv-IUsW5R1O"
   },
   "source": [
    "### Query 1\n",
    "Frequent Routes"
   ]
  },
  {
   "cell_type": "code",
   "execution_count": null,
   "metadata": {
    "colab": {
     "base_uri": "https://localhost:8080/"
    },
    "id": "U31yCwN_5R1P",
    "outputId": "d7cdaaee-fb1e-4347-aef0-55818fbb2b7d"
   },
   "outputs": [],
   "source": []
  },
  {
   "cell_type": "markdown",
   "metadata": {
    "id": "KAG1UbBE5R1P"
   },
   "source": [
    "### Query 2\n",
    "Profitable Areas"
   ]
  },
  {
   "cell_type": "code",
   "execution_count": null,
   "metadata": {
    "colab": {
     "base_uri": "https://localhost:8080/"
    },
    "id": "K7jwl2aoiZKk",
    "outputId": "c108e39e-4048-4671-a393-ccf3cd345d67"
   },
   "outputs": [],
   "source": []
  }
 ],
 "metadata": {
  "application/vnd.databricks.v1+notebook": {
   "dashboards": [],
   "language": "python",
   "notebookMetadata": {
    "pythonIndentUnit": 2
   },
   "notebookName": "Practice session - Dataframe",
   "notebookOrigID": 1061204080530756,
   "widgets": {}
  },
  "colab": {
   "provenance": []
  },
  "kernelspec": {
   "display_name": "Python 3 (ipykernel)",
   "language": "python",
   "name": "python3"
  },
  "language_info": {
   "codemirror_mode": {
    "name": "ipython",
    "version": 3
   },
   "file_extension": ".py",
   "mimetype": "text/x-python",
   "name": "python",
   "nbconvert_exporter": "python",
   "pygments_lexer": "ipython3",
   "version": "3.11.10"
  }
 },
 "nbformat": 4,
 "nbformat_minor": 4
}